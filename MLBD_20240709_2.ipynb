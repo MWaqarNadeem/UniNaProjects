{
 "cells": [
  {
   "cell_type": "code",
   "execution_count": 24,
   "metadata": {
    "id": "UpRrTViQUbZL"
   },
   "outputs": [],
   "source": [
    "import pandas as pd\n",
    "import glob\n",
    "from sklearn.preprocessing import StandardScaler\n",
    "import numpy as np\n",
    "from sklearn.datasets import load_iris\n",
    "from sklearn.model_selection import train_test_split\n",
    "from sklearn.ensemble import RandomForestClassifier\n",
    "from sklearn.naive_bayes import GaussianNB\n",
    "from sklearn.metrics import accuracy_score, classification_report\n"
   ]
  },
  {
   "cell_type": "code",
   "execution_count": 25,
   "metadata": {
    "id": "3soSpyvaegFV"
   },
   "outputs": [],
   "source": [
    "\n",
    "path = 'TRAIN_*.csv'\n",
    "csv_files = glob.glob(path)\n",
    "dfs = []\n",
    "for file in csv_files:\n",
    "    df = pd.read_csv(file, delimiter=';')\n",
    "    dfs.append(df)\n",
    "\n",
    "combined_df = pd.concat(dfs, ignore_index=True)\n",
    "#print(combined_df)\n",
    "\n"
   ]
  },
  {
   "cell_type": "code",
   "execution_count": 26,
   "metadata": {
    "colab": {
     "base_uri": "https://localhost:8080/",
     "height": 349
    },
    "id": "OTY6D10Y8mq-",
    "outputId": "a567ab15-1a2b-4828-a58c-519e70ba4050"
   },
   "outputs": [
    {
     "data": {
      "text/html": [
       "<div>\n",
       "<style scoped>\n",
       "    .dataframe tbody tr th:only-of-type {\n",
       "        vertical-align: middle;\n",
       "    }\n",
       "\n",
       "    .dataframe tbody tr th {\n",
       "        vertical-align: top;\n",
       "    }\n",
       "\n",
       "    .dataframe thead th {\n",
       "        text-align: right;\n",
       "    }\n",
       "</style>\n",
       "<table border=\"1\" class=\"dataframe\">\n",
       "  <thead>\n",
       "    <tr style=\"text-align: right;\">\n",
       "      <th></th>\n",
       "      <th>Unnamed: 0</th>\n",
       "      <th>f0</th>\n",
       "      <th>f1</th>\n",
       "      <th>f2</th>\n",
       "      <th>f3</th>\n",
       "      <th>f4</th>\n",
       "      <th>f5</th>\n",
       "      <th>f6</th>\n",
       "      <th>f7</th>\n",
       "      <th>f8</th>\n",
       "      <th>...</th>\n",
       "      <th>f1271</th>\n",
       "      <th>f1272</th>\n",
       "      <th>f1273</th>\n",
       "      <th>f1274</th>\n",
       "      <th>f1275</th>\n",
       "      <th>f1276</th>\n",
       "      <th>f1277</th>\n",
       "      <th>f1278</th>\n",
       "      <th>f1279</th>\n",
       "      <th>label</th>\n",
       "    </tr>\n",
       "  </thead>\n",
       "  <tbody>\n",
       "    <tr>\n",
       "      <th>count</th>\n",
       "      <td>11170.000000</td>\n",
       "      <td>11170.000000</td>\n",
       "      <td>11170.000000</td>\n",
       "      <td>11170.000000</td>\n",
       "      <td>11170.000000</td>\n",
       "      <td>11170.000000</td>\n",
       "      <td>11170.000000</td>\n",
       "      <td>11170.000000</td>\n",
       "      <td>11170.000000</td>\n",
       "      <td>11170.000000</td>\n",
       "      <td>...</td>\n",
       "      <td>11170.000000</td>\n",
       "      <td>11170.000000</td>\n",
       "      <td>11170.000000</td>\n",
       "      <td>11170.000000</td>\n",
       "      <td>11170.000000</td>\n",
       "      <td>11170.000000</td>\n",
       "      <td>11170.000000</td>\n",
       "      <td>11170.000000</td>\n",
       "      <td>11170.000000</td>\n",
       "      <td>11170.000000</td>\n",
       "    </tr>\n",
       "    <tr>\n",
       "      <th>mean</th>\n",
       "      <td>501.407162</td>\n",
       "      <td>0.162128</td>\n",
       "      <td>0.145527</td>\n",
       "      <td>0.174185</td>\n",
       "      <td>0.137843</td>\n",
       "      <td>0.153235</td>\n",
       "      <td>0.188316</td>\n",
       "      <td>0.156166</td>\n",
       "      <td>0.141305</td>\n",
       "      <td>0.115171</td>\n",
       "      <td>...</td>\n",
       "      <td>0.152624</td>\n",
       "      <td>0.154155</td>\n",
       "      <td>0.161065</td>\n",
       "      <td>0.124254</td>\n",
       "      <td>0.160399</td>\n",
       "      <td>0.148530</td>\n",
       "      <td>0.174565</td>\n",
       "      <td>0.144871</td>\n",
       "      <td>0.217162</td>\n",
       "      <td>2.754879</td>\n",
       "    </tr>\n",
       "    <tr>\n",
       "      <th>std</th>\n",
       "      <td>472.670087</td>\n",
       "      <td>0.054762</td>\n",
       "      <td>0.068280</td>\n",
       "      <td>0.069722</td>\n",
       "      <td>0.068847</td>\n",
       "      <td>0.067105</td>\n",
       "      <td>0.049016</td>\n",
       "      <td>0.063386</td>\n",
       "      <td>0.079964</td>\n",
       "      <td>0.075025</td>\n",
       "      <td>...</td>\n",
       "      <td>0.059698</td>\n",
       "      <td>0.082281</td>\n",
       "      <td>0.042468</td>\n",
       "      <td>0.067441</td>\n",
       "      <td>0.061332</td>\n",
       "      <td>0.066743</td>\n",
       "      <td>0.062358</td>\n",
       "      <td>0.064659</td>\n",
       "      <td>0.071962</td>\n",
       "      <td>1.100259</td>\n",
       "    </tr>\n",
       "    <tr>\n",
       "      <th>min</th>\n",
       "      <td>0.000000</td>\n",
       "      <td>-0.067643</td>\n",
       "      <td>-0.153364</td>\n",
       "      <td>-0.131104</td>\n",
       "      <td>-0.150906</td>\n",
       "      <td>-0.113343</td>\n",
       "      <td>-0.063193</td>\n",
       "      <td>-0.128910</td>\n",
       "      <td>-0.134295</td>\n",
       "      <td>-0.137359</td>\n",
       "      <td>...</td>\n",
       "      <td>-0.086318</td>\n",
       "      <td>-0.144715</td>\n",
       "      <td>-0.028057</td>\n",
       "      <td>-0.152023</td>\n",
       "      <td>-0.141489</td>\n",
       "      <td>-0.138390</td>\n",
       "      <td>-0.112479</td>\n",
       "      <td>-0.105459</td>\n",
       "      <td>-0.060712</td>\n",
       "      <td>1.000000</td>\n",
       "    </tr>\n",
       "    <tr>\n",
       "      <th>25%</th>\n",
       "      <td>158.000000</td>\n",
       "      <td>0.127810</td>\n",
       "      <td>0.100882</td>\n",
       "      <td>0.127382</td>\n",
       "      <td>0.091778</td>\n",
       "      <td>0.110123</td>\n",
       "      <td>0.157962</td>\n",
       "      <td>0.116499</td>\n",
       "      <td>0.086931</td>\n",
       "      <td>0.064120</td>\n",
       "      <td>...</td>\n",
       "      <td>0.114274</td>\n",
       "      <td>0.098824</td>\n",
       "      <td>0.134240</td>\n",
       "      <td>0.079247</td>\n",
       "      <td>0.120244</td>\n",
       "      <td>0.104527</td>\n",
       "      <td>0.134501</td>\n",
       "      <td>0.102179</td>\n",
       "      <td>0.171491</td>\n",
       "      <td>2.000000</td>\n",
       "    </tr>\n",
       "    <tr>\n",
       "      <th>50%</th>\n",
       "      <td>349.000000</td>\n",
       "      <td>0.165684</td>\n",
       "      <td>0.148470</td>\n",
       "      <td>0.177073</td>\n",
       "      <td>0.138646</td>\n",
       "      <td>0.157251</td>\n",
       "      <td>0.191285</td>\n",
       "      <td>0.159867</td>\n",
       "      <td>0.142312</td>\n",
       "      <td>0.116837</td>\n",
       "      <td>...</td>\n",
       "      <td>0.156007</td>\n",
       "      <td>0.155581</td>\n",
       "      <td>0.163911</td>\n",
       "      <td>0.126357</td>\n",
       "      <td>0.162186</td>\n",
       "      <td>0.152602</td>\n",
       "      <td>0.178471</td>\n",
       "      <td>0.146147</td>\n",
       "      <td>0.220465</td>\n",
       "      <td>3.000000</td>\n",
       "    </tr>\n",
       "    <tr>\n",
       "      <th>75%</th>\n",
       "      <td>686.000000</td>\n",
       "      <td>0.199935</td>\n",
       "      <td>0.192398</td>\n",
       "      <td>0.222387</td>\n",
       "      <td>0.185165</td>\n",
       "      <td>0.200265</td>\n",
       "      <td>0.222003</td>\n",
       "      <td>0.199827</td>\n",
       "      <td>0.196279</td>\n",
       "      <td>0.166948</td>\n",
       "      <td>...</td>\n",
       "      <td>0.194192</td>\n",
       "      <td>0.209789</td>\n",
       "      <td>0.190695</td>\n",
       "      <td>0.171039</td>\n",
       "      <td>0.202238</td>\n",
       "      <td>0.195026</td>\n",
       "      <td>0.217709</td>\n",
       "      <td>0.188787</td>\n",
       "      <td>0.266960</td>\n",
       "      <td>4.000000</td>\n",
       "    </tr>\n",
       "    <tr>\n",
       "      <th>max</th>\n",
       "      <td>2131.000000</td>\n",
       "      <td>0.358984</td>\n",
       "      <td>0.365077</td>\n",
       "      <td>0.413486</td>\n",
       "      <td>0.420982</td>\n",
       "      <td>0.370679</td>\n",
       "      <td>0.356700</td>\n",
       "      <td>0.360433</td>\n",
       "      <td>0.404370</td>\n",
       "      <td>0.357448</td>\n",
       "      <td>...</td>\n",
       "      <td>0.357933</td>\n",
       "      <td>0.430106</td>\n",
       "      <td>0.302201</td>\n",
       "      <td>0.350139</td>\n",
       "      <td>0.355154</td>\n",
       "      <td>0.353526</td>\n",
       "      <td>0.362267</td>\n",
       "      <td>0.366339</td>\n",
       "      <td>0.442135</td>\n",
       "      <td>4.000000</td>\n",
       "    </tr>\n",
       "  </tbody>\n",
       "</table>\n",
       "<p>8 rows × 1282 columns</p>\n",
       "</div>"
      ],
      "text/plain": [
       "         Unnamed: 0            f0            f1            f2            f3  \\\n",
       "count  11170.000000  11170.000000  11170.000000  11170.000000  11170.000000   \n",
       "mean     501.407162      0.162128      0.145527      0.174185      0.137843   \n",
       "std      472.670087      0.054762      0.068280      0.069722      0.068847   \n",
       "min        0.000000     -0.067643     -0.153364     -0.131104     -0.150906   \n",
       "25%      158.000000      0.127810      0.100882      0.127382      0.091778   \n",
       "50%      349.000000      0.165684      0.148470      0.177073      0.138646   \n",
       "75%      686.000000      0.199935      0.192398      0.222387      0.185165   \n",
       "max     2131.000000      0.358984      0.365077      0.413486      0.420982   \n",
       "\n",
       "                 f4            f5            f6            f7            f8  \\\n",
       "count  11170.000000  11170.000000  11170.000000  11170.000000  11170.000000   \n",
       "mean       0.153235      0.188316      0.156166      0.141305      0.115171   \n",
       "std        0.067105      0.049016      0.063386      0.079964      0.075025   \n",
       "min       -0.113343     -0.063193     -0.128910     -0.134295     -0.137359   \n",
       "25%        0.110123      0.157962      0.116499      0.086931      0.064120   \n",
       "50%        0.157251      0.191285      0.159867      0.142312      0.116837   \n",
       "75%        0.200265      0.222003      0.199827      0.196279      0.166948   \n",
       "max        0.370679      0.356700      0.360433      0.404370      0.357448   \n",
       "\n",
       "       ...         f1271         f1272         f1273         f1274  \\\n",
       "count  ...  11170.000000  11170.000000  11170.000000  11170.000000   \n",
       "mean   ...      0.152624      0.154155      0.161065      0.124254   \n",
       "std    ...      0.059698      0.082281      0.042468      0.067441   \n",
       "min    ...     -0.086318     -0.144715     -0.028057     -0.152023   \n",
       "25%    ...      0.114274      0.098824      0.134240      0.079247   \n",
       "50%    ...      0.156007      0.155581      0.163911      0.126357   \n",
       "75%    ...      0.194192      0.209789      0.190695      0.171039   \n",
       "max    ...      0.357933      0.430106      0.302201      0.350139   \n",
       "\n",
       "              f1275         f1276         f1277         f1278         f1279  \\\n",
       "count  11170.000000  11170.000000  11170.000000  11170.000000  11170.000000   \n",
       "mean       0.160399      0.148530      0.174565      0.144871      0.217162   \n",
       "std        0.061332      0.066743      0.062358      0.064659      0.071962   \n",
       "min       -0.141489     -0.138390     -0.112479     -0.105459     -0.060712   \n",
       "25%        0.120244      0.104527      0.134501      0.102179      0.171491   \n",
       "50%        0.162186      0.152602      0.178471      0.146147      0.220465   \n",
       "75%        0.202238      0.195026      0.217709      0.188787      0.266960   \n",
       "max        0.355154      0.353526      0.362267      0.366339      0.442135   \n",
       "\n",
       "              label  \n",
       "count  11170.000000  \n",
       "mean       2.754879  \n",
       "std        1.100259  \n",
       "min        1.000000  \n",
       "25%        2.000000  \n",
       "50%        3.000000  \n",
       "75%        4.000000  \n",
       "max        4.000000  \n",
       "\n",
       "[8 rows x 1282 columns]"
      ]
     },
     "execution_count": 26,
     "metadata": {},
     "output_type": "execute_result"
    }
   ],
   "source": [
    "combined_df.describe()"
   ]
  },
  {
   "cell_type": "code",
   "execution_count": 27,
   "metadata": {
    "colab": {
     "base_uri": "https://localhost:8080/"
    },
    "id": "jqUXyZfzySv-",
    "outputId": "f066bfd4-775f-4af3-b198-54eb48d24b8c"
   },
   "outputs": [
    {
     "data": {
      "text/plain": [
       "Unnamed: 0                                              5600718\n",
       "f0                                                  1810.967664\n",
       "f1                                                  1625.538231\n",
       "f2                                                   1945.64091\n",
       "f3                                                  1539.708444\n",
       "                                    ...                        \n",
       "f1278                                               1618.213237\n",
       "f1279                                               2425.701854\n",
       "images        cone30_frame0046_0cone30_frame0046_1cone30_fra...\n",
       "cone_name     cone30_frame0046_0cone30_frame0046_1cone30_fra...\n",
       "label                                                     30772\n",
       "Length: 1284, dtype: object"
      ]
     },
     "execution_count": 27,
     "metadata": {},
     "output_type": "execute_result"
    }
   ],
   "source": [
    "combined_df.sum()"
   ]
  },
  {
   "cell_type": "markdown",
   "metadata": {
    "id": "p41CY6EsrnOn"
   },
   "source": [
    "# Remove Null Values"
   ]
  },
  {
   "cell_type": "code",
   "execution_count": 28,
   "metadata": {
    "colab": {
     "base_uri": "https://localhost:8080/",
     "height": 349
    },
    "id": "Jx_15aPL6jqu",
    "outputId": "25308202-7870-4841-cc8d-45c1b0a00412"
   },
   "outputs": [
    {
     "data": {
      "text/html": [
       "<div>\n",
       "<style scoped>\n",
       "    .dataframe tbody tr th:only-of-type {\n",
       "        vertical-align: middle;\n",
       "    }\n",
       "\n",
       "    .dataframe tbody tr th {\n",
       "        vertical-align: top;\n",
       "    }\n",
       "\n",
       "    .dataframe thead th {\n",
       "        text-align: right;\n",
       "    }\n",
       "</style>\n",
       "<table border=\"1\" class=\"dataframe\">\n",
       "  <thead>\n",
       "    <tr style=\"text-align: right;\">\n",
       "      <th></th>\n",
       "      <th>Unnamed: 0</th>\n",
       "      <th>f0</th>\n",
       "      <th>f1</th>\n",
       "      <th>f2</th>\n",
       "      <th>f3</th>\n",
       "      <th>f4</th>\n",
       "      <th>f5</th>\n",
       "      <th>f6</th>\n",
       "      <th>f7</th>\n",
       "      <th>f8</th>\n",
       "      <th>...</th>\n",
       "      <th>f1271</th>\n",
       "      <th>f1272</th>\n",
       "      <th>f1273</th>\n",
       "      <th>f1274</th>\n",
       "      <th>f1275</th>\n",
       "      <th>f1276</th>\n",
       "      <th>f1277</th>\n",
       "      <th>f1278</th>\n",
       "      <th>f1279</th>\n",
       "      <th>label</th>\n",
       "    </tr>\n",
       "  </thead>\n",
       "  <tbody>\n",
       "    <tr>\n",
       "      <th>count</th>\n",
       "      <td>11170.000000</td>\n",
       "      <td>11170.000000</td>\n",
       "      <td>11170.000000</td>\n",
       "      <td>11170.000000</td>\n",
       "      <td>11170.000000</td>\n",
       "      <td>11170.000000</td>\n",
       "      <td>11170.000000</td>\n",
       "      <td>11170.000000</td>\n",
       "      <td>11170.000000</td>\n",
       "      <td>11170.000000</td>\n",
       "      <td>...</td>\n",
       "      <td>11170.000000</td>\n",
       "      <td>11170.000000</td>\n",
       "      <td>11170.000000</td>\n",
       "      <td>11170.000000</td>\n",
       "      <td>11170.000000</td>\n",
       "      <td>11170.000000</td>\n",
       "      <td>11170.000000</td>\n",
       "      <td>11170.000000</td>\n",
       "      <td>11170.000000</td>\n",
       "      <td>11170.000000</td>\n",
       "    </tr>\n",
       "    <tr>\n",
       "      <th>mean</th>\n",
       "      <td>501.407162</td>\n",
       "      <td>0.162128</td>\n",
       "      <td>0.145527</td>\n",
       "      <td>0.174185</td>\n",
       "      <td>0.137843</td>\n",
       "      <td>0.153235</td>\n",
       "      <td>0.188316</td>\n",
       "      <td>0.156166</td>\n",
       "      <td>0.141305</td>\n",
       "      <td>0.115171</td>\n",
       "      <td>...</td>\n",
       "      <td>0.152624</td>\n",
       "      <td>0.154155</td>\n",
       "      <td>0.161065</td>\n",
       "      <td>0.124254</td>\n",
       "      <td>0.160399</td>\n",
       "      <td>0.148530</td>\n",
       "      <td>0.174565</td>\n",
       "      <td>0.144871</td>\n",
       "      <td>0.217162</td>\n",
       "      <td>2.754879</td>\n",
       "    </tr>\n",
       "    <tr>\n",
       "      <th>std</th>\n",
       "      <td>472.670087</td>\n",
       "      <td>0.054762</td>\n",
       "      <td>0.068280</td>\n",
       "      <td>0.069722</td>\n",
       "      <td>0.068847</td>\n",
       "      <td>0.067105</td>\n",
       "      <td>0.049016</td>\n",
       "      <td>0.063386</td>\n",
       "      <td>0.079964</td>\n",
       "      <td>0.075025</td>\n",
       "      <td>...</td>\n",
       "      <td>0.059698</td>\n",
       "      <td>0.082281</td>\n",
       "      <td>0.042468</td>\n",
       "      <td>0.067441</td>\n",
       "      <td>0.061332</td>\n",
       "      <td>0.066743</td>\n",
       "      <td>0.062358</td>\n",
       "      <td>0.064659</td>\n",
       "      <td>0.071962</td>\n",
       "      <td>1.100259</td>\n",
       "    </tr>\n",
       "    <tr>\n",
       "      <th>min</th>\n",
       "      <td>0.000000</td>\n",
       "      <td>-0.067643</td>\n",
       "      <td>-0.153364</td>\n",
       "      <td>-0.131104</td>\n",
       "      <td>-0.150906</td>\n",
       "      <td>-0.113343</td>\n",
       "      <td>-0.063193</td>\n",
       "      <td>-0.128910</td>\n",
       "      <td>-0.134295</td>\n",
       "      <td>-0.137359</td>\n",
       "      <td>...</td>\n",
       "      <td>-0.086318</td>\n",
       "      <td>-0.144715</td>\n",
       "      <td>-0.028057</td>\n",
       "      <td>-0.152023</td>\n",
       "      <td>-0.141489</td>\n",
       "      <td>-0.138390</td>\n",
       "      <td>-0.112479</td>\n",
       "      <td>-0.105459</td>\n",
       "      <td>-0.060712</td>\n",
       "      <td>1.000000</td>\n",
       "    </tr>\n",
       "    <tr>\n",
       "      <th>25%</th>\n",
       "      <td>158.000000</td>\n",
       "      <td>0.127810</td>\n",
       "      <td>0.100882</td>\n",
       "      <td>0.127382</td>\n",
       "      <td>0.091778</td>\n",
       "      <td>0.110123</td>\n",
       "      <td>0.157962</td>\n",
       "      <td>0.116499</td>\n",
       "      <td>0.086931</td>\n",
       "      <td>0.064120</td>\n",
       "      <td>...</td>\n",
       "      <td>0.114274</td>\n",
       "      <td>0.098824</td>\n",
       "      <td>0.134240</td>\n",
       "      <td>0.079247</td>\n",
       "      <td>0.120244</td>\n",
       "      <td>0.104527</td>\n",
       "      <td>0.134501</td>\n",
       "      <td>0.102179</td>\n",
       "      <td>0.171491</td>\n",
       "      <td>2.000000</td>\n",
       "    </tr>\n",
       "    <tr>\n",
       "      <th>50%</th>\n",
       "      <td>349.000000</td>\n",
       "      <td>0.165684</td>\n",
       "      <td>0.148470</td>\n",
       "      <td>0.177073</td>\n",
       "      <td>0.138646</td>\n",
       "      <td>0.157251</td>\n",
       "      <td>0.191285</td>\n",
       "      <td>0.159867</td>\n",
       "      <td>0.142312</td>\n",
       "      <td>0.116837</td>\n",
       "      <td>...</td>\n",
       "      <td>0.156007</td>\n",
       "      <td>0.155581</td>\n",
       "      <td>0.163911</td>\n",
       "      <td>0.126357</td>\n",
       "      <td>0.162186</td>\n",
       "      <td>0.152602</td>\n",
       "      <td>0.178471</td>\n",
       "      <td>0.146147</td>\n",
       "      <td>0.220465</td>\n",
       "      <td>3.000000</td>\n",
       "    </tr>\n",
       "    <tr>\n",
       "      <th>75%</th>\n",
       "      <td>686.000000</td>\n",
       "      <td>0.199935</td>\n",
       "      <td>0.192398</td>\n",
       "      <td>0.222387</td>\n",
       "      <td>0.185165</td>\n",
       "      <td>0.200265</td>\n",
       "      <td>0.222003</td>\n",
       "      <td>0.199827</td>\n",
       "      <td>0.196279</td>\n",
       "      <td>0.166948</td>\n",
       "      <td>...</td>\n",
       "      <td>0.194192</td>\n",
       "      <td>0.209789</td>\n",
       "      <td>0.190695</td>\n",
       "      <td>0.171039</td>\n",
       "      <td>0.202238</td>\n",
       "      <td>0.195026</td>\n",
       "      <td>0.217709</td>\n",
       "      <td>0.188787</td>\n",
       "      <td>0.266960</td>\n",
       "      <td>4.000000</td>\n",
       "    </tr>\n",
       "    <tr>\n",
       "      <th>max</th>\n",
       "      <td>2131.000000</td>\n",
       "      <td>0.358984</td>\n",
       "      <td>0.365077</td>\n",
       "      <td>0.413486</td>\n",
       "      <td>0.420982</td>\n",
       "      <td>0.370679</td>\n",
       "      <td>0.356700</td>\n",
       "      <td>0.360433</td>\n",
       "      <td>0.404370</td>\n",
       "      <td>0.357448</td>\n",
       "      <td>...</td>\n",
       "      <td>0.357933</td>\n",
       "      <td>0.430106</td>\n",
       "      <td>0.302201</td>\n",
       "      <td>0.350139</td>\n",
       "      <td>0.355154</td>\n",
       "      <td>0.353526</td>\n",
       "      <td>0.362267</td>\n",
       "      <td>0.366339</td>\n",
       "      <td>0.442135</td>\n",
       "      <td>4.000000</td>\n",
       "    </tr>\n",
       "  </tbody>\n",
       "</table>\n",
       "<p>8 rows × 1282 columns</p>\n",
       "</div>"
      ],
      "text/plain": [
       "         Unnamed: 0            f0            f1            f2            f3  \\\n",
       "count  11170.000000  11170.000000  11170.000000  11170.000000  11170.000000   \n",
       "mean     501.407162      0.162128      0.145527      0.174185      0.137843   \n",
       "std      472.670087      0.054762      0.068280      0.069722      0.068847   \n",
       "min        0.000000     -0.067643     -0.153364     -0.131104     -0.150906   \n",
       "25%      158.000000      0.127810      0.100882      0.127382      0.091778   \n",
       "50%      349.000000      0.165684      0.148470      0.177073      0.138646   \n",
       "75%      686.000000      0.199935      0.192398      0.222387      0.185165   \n",
       "max     2131.000000      0.358984      0.365077      0.413486      0.420982   \n",
       "\n",
       "                 f4            f5            f6            f7            f8  \\\n",
       "count  11170.000000  11170.000000  11170.000000  11170.000000  11170.000000   \n",
       "mean       0.153235      0.188316      0.156166      0.141305      0.115171   \n",
       "std        0.067105      0.049016      0.063386      0.079964      0.075025   \n",
       "min       -0.113343     -0.063193     -0.128910     -0.134295     -0.137359   \n",
       "25%        0.110123      0.157962      0.116499      0.086931      0.064120   \n",
       "50%        0.157251      0.191285      0.159867      0.142312      0.116837   \n",
       "75%        0.200265      0.222003      0.199827      0.196279      0.166948   \n",
       "max        0.370679      0.356700      0.360433      0.404370      0.357448   \n",
       "\n",
       "       ...         f1271         f1272         f1273         f1274  \\\n",
       "count  ...  11170.000000  11170.000000  11170.000000  11170.000000   \n",
       "mean   ...      0.152624      0.154155      0.161065      0.124254   \n",
       "std    ...      0.059698      0.082281      0.042468      0.067441   \n",
       "min    ...     -0.086318     -0.144715     -0.028057     -0.152023   \n",
       "25%    ...      0.114274      0.098824      0.134240      0.079247   \n",
       "50%    ...      0.156007      0.155581      0.163911      0.126357   \n",
       "75%    ...      0.194192      0.209789      0.190695      0.171039   \n",
       "max    ...      0.357933      0.430106      0.302201      0.350139   \n",
       "\n",
       "              f1275         f1276         f1277         f1278         f1279  \\\n",
       "count  11170.000000  11170.000000  11170.000000  11170.000000  11170.000000   \n",
       "mean       0.160399      0.148530      0.174565      0.144871      0.217162   \n",
       "std        0.061332      0.066743      0.062358      0.064659      0.071962   \n",
       "min       -0.141489     -0.138390     -0.112479     -0.105459     -0.060712   \n",
       "25%        0.120244      0.104527      0.134501      0.102179      0.171491   \n",
       "50%        0.162186      0.152602      0.178471      0.146147      0.220465   \n",
       "75%        0.202238      0.195026      0.217709      0.188787      0.266960   \n",
       "max        0.355154      0.353526      0.362267      0.366339      0.442135   \n",
       "\n",
       "              label  \n",
       "count  11170.000000  \n",
       "mean       2.754879  \n",
       "std        1.100259  \n",
       "min        1.000000  \n",
       "25%        2.000000  \n",
       "50%        3.000000  \n",
       "75%        4.000000  \n",
       "max        4.000000  \n",
       "\n",
       "[8 rows x 1282 columns]"
      ]
     },
     "execution_count": 28,
     "metadata": {},
     "output_type": "execute_result"
    }
   ],
   "source": [
    "combined_df.dropna(inplace=True)\n",
    "(combined_df).describe()"
   ]
  },
  {
   "cell_type": "markdown",
   "metadata": {
    "id": "gRHhx4OfD8s7"
   },
   "source": [
    "# Normalization of Data"
   ]
  },
  {
   "cell_type": "code",
   "execution_count": 29,
   "metadata": {
    "id": "_nFdP5vp7DQo"
   },
   "outputs": [],
   "source": [
    "X = combined_df.drop(['images', 'cone_name', 'label'], axis=1)\n",
    "y = combined_df['label']\n",
    "\n",
    "scaler = StandardScaler()\n",
    "scaler.fit(X)\n",
    "X = scaler.transform(X)"
   ]
  },
  {
   "cell_type": "markdown",
   "metadata": {
    "id": "qpoDoO8bEQhc"
   },
   "source": [
    "# Test and Train"
   ]
  },
  {
   "cell_type": "code",
   "execution_count": 34,
   "metadata": {
    "id": "1Y7cotwByWsW"
   },
   "outputs": [],
   "source": [
    "X_train, X_test, y_train, y_test = train_test_split(X, y, test_size=0.3, random_state=42)"
   ]
  },
  {
   "cell_type": "code",
   "execution_count": 35,
   "metadata": {
    "colab": {
     "base_uri": "https://localhost:8080/",
     "height": 74
    },
    "id": "fdYUl6NG0o0T",
    "outputId": "cfa1ea34-a715-46ed-a2d7-dd66843aec9f"
   },
   "outputs": [
    {
     "data": {
      "text/html": [
       "<style>#sk-container-id-4 {color: black;background-color: white;}#sk-container-id-4 pre{padding: 0;}#sk-container-id-4 div.sk-toggleable {background-color: white;}#sk-container-id-4 label.sk-toggleable__label {cursor: pointer;display: block;width: 100%;margin-bottom: 0;padding: 0.3em;box-sizing: border-box;text-align: center;}#sk-container-id-4 label.sk-toggleable__label-arrow:before {content: \"▸\";float: left;margin-right: 0.25em;color: #696969;}#sk-container-id-4 label.sk-toggleable__label-arrow:hover:before {color: black;}#sk-container-id-4 div.sk-estimator:hover label.sk-toggleable__label-arrow:before {color: black;}#sk-container-id-4 div.sk-toggleable__content {max-height: 0;max-width: 0;overflow: hidden;text-align: left;background-color: #f0f8ff;}#sk-container-id-4 div.sk-toggleable__content pre {margin: 0.2em;color: black;border-radius: 0.25em;background-color: #f0f8ff;}#sk-container-id-4 input.sk-toggleable__control:checked~div.sk-toggleable__content {max-height: 200px;max-width: 100%;overflow: auto;}#sk-container-id-4 input.sk-toggleable__control:checked~label.sk-toggleable__label-arrow:before {content: \"▾\";}#sk-container-id-4 div.sk-estimator input.sk-toggleable__control:checked~label.sk-toggleable__label {background-color: #d4ebff;}#sk-container-id-4 div.sk-label input.sk-toggleable__control:checked~label.sk-toggleable__label {background-color: #d4ebff;}#sk-container-id-4 input.sk-hidden--visually {border: 0;clip: rect(1px 1px 1px 1px);clip: rect(1px, 1px, 1px, 1px);height: 1px;margin: -1px;overflow: hidden;padding: 0;position: absolute;width: 1px;}#sk-container-id-4 div.sk-estimator {font-family: monospace;background-color: #f0f8ff;border: 1px dotted black;border-radius: 0.25em;box-sizing: border-box;margin-bottom: 0.5em;}#sk-container-id-4 div.sk-estimator:hover {background-color: #d4ebff;}#sk-container-id-4 div.sk-parallel-item::after {content: \"\";width: 100%;border-bottom: 1px solid gray;flex-grow: 1;}#sk-container-id-4 div.sk-label:hover label.sk-toggleable__label {background-color: #d4ebff;}#sk-container-id-4 div.sk-serial::before {content: \"\";position: absolute;border-left: 1px solid gray;box-sizing: border-box;top: 0;bottom: 0;left: 50%;z-index: 0;}#sk-container-id-4 div.sk-serial {display: flex;flex-direction: column;align-items: center;background-color: white;padding-right: 0.2em;padding-left: 0.2em;position: relative;}#sk-container-id-4 div.sk-item {position: relative;z-index: 1;}#sk-container-id-4 div.sk-parallel {display: flex;align-items: stretch;justify-content: center;background-color: white;position: relative;}#sk-container-id-4 div.sk-item::before, #sk-container-id-4 div.sk-parallel-item::before {content: \"\";position: absolute;border-left: 1px solid gray;box-sizing: border-box;top: 0;bottom: 0;left: 50%;z-index: -1;}#sk-container-id-4 div.sk-parallel-item {display: flex;flex-direction: column;z-index: 1;position: relative;background-color: white;}#sk-container-id-4 div.sk-parallel-item:first-child::after {align-self: flex-end;width: 50%;}#sk-container-id-4 div.sk-parallel-item:last-child::after {align-self: flex-start;width: 50%;}#sk-container-id-4 div.sk-parallel-item:only-child::after {width: 0;}#sk-container-id-4 div.sk-dashed-wrapped {border: 1px dashed gray;margin: 0 0.4em 0.5em 0.4em;box-sizing: border-box;padding-bottom: 0.4em;background-color: white;}#sk-container-id-4 div.sk-label label {font-family: monospace;font-weight: bold;display: inline-block;line-height: 1.2em;}#sk-container-id-4 div.sk-label-container {text-align: center;}#sk-container-id-4 div.sk-container {/* jupyter's `normalize.less` sets `[hidden] { display: none; }` but bootstrap.min.css set `[hidden] { display: none !important; }` so we also need the `!important` here to be able to override the default hidden behavior on the sphinx rendered scikit-learn.org. See: https://github.com/scikit-learn/scikit-learn/issues/21755 */display: inline-block !important;position: relative;}#sk-container-id-4 div.sk-text-repr-fallback {display: none;}</style><div id=\"sk-container-id-4\" class=\"sk-top-container\"><div class=\"sk-text-repr-fallback\"><pre>GaussianNB()</pre><b>In a Jupyter environment, please rerun this cell to show the HTML representation or trust the notebook. <br />On GitHub, the HTML representation is unable to render, please try loading this page with nbviewer.org.</b></div><div class=\"sk-container\" hidden><div class=\"sk-item\"><div class=\"sk-estimator sk-toggleable\"><input class=\"sk-toggleable__control sk-hidden--visually\" id=\"sk-estimator-id-4\" type=\"checkbox\" checked><label for=\"sk-estimator-id-4\" class=\"sk-toggleable__label sk-toggleable__label-arrow\">GaussianNB</label><div class=\"sk-toggleable__content\"><pre>GaussianNB()</pre></div></div></div></div></div>"
      ],
      "text/plain": [
       "GaussianNB()"
      ]
     },
     "execution_count": 35,
     "metadata": {},
     "output_type": "execute_result"
    }
   ],
   "source": [
    "gnb = GaussianNB()\n",
    "gnb.fit(X_train, y_train)"
   ]
  },
  {
   "cell_type": "code",
   "execution_count": 36,
   "metadata": {
    "id": "XT4NqLRd0xCn"
   },
   "outputs": [],
   "source": [
    "y_pred = gnb.predict(X_test)"
   ]
  },
  {
   "cell_type": "code",
   "execution_count": 37,
   "metadata": {
    "colab": {
     "base_uri": "https://localhost:8080/"
    },
    "id": "tGAKHR5oSPKH",
    "outputId": "216fcfa9-416b-4973-eedc-f5759824afed"
   },
   "outputs": [
    {
     "name": "stdout",
     "output_type": "stream",
     "text": [
      "Accuracy: 66.46%\n"
     ]
    }
   ],
   "source": [
    "accuracy = accuracy_score(y_test, y_pred)\n",
    "print(f\"Accuracy: {accuracy * 100:.2f}%\")"
   ]
  },
  {
   "cell_type": "code",
   "execution_count": 38,
   "metadata": {
    "id": "zKqLsDJZVFGW"
   },
   "outputs": [],
   "source": [
    "from sklearn.metrics import classification_report\n",
    "from sklearn.datasets import load_iris\n",
    "target_name = ['1','2','3','4']"
   ]
  },
  {
   "cell_type": "code",
   "execution_count": 39,
   "metadata": {
    "colab": {
     "base_uri": "https://localhost:8080/"
    },
    "id": "Pemf0IJQSS-f",
    "outputId": "6e80575c-3d8c-439e-a762-4afd66efd589"
   },
   "outputs": [
    {
     "name": "stdout",
     "output_type": "stream",
     "text": [
      "              precision    recall  f1-score   support\n",
      "\n",
      "           1       0.36      0.44      0.40       476\n",
      "           2       0.71      0.72      0.71      1184\n",
      "           3       0.44      0.48      0.46       439\n",
      "           4       0.88      0.76      0.82      1252\n",
      "\n",
      "    accuracy                           0.66      3351\n",
      "   macro avg       0.60      0.60      0.60      3351\n",
      "weighted avg       0.69      0.66      0.67      3351\n",
      "\n"
     ]
    }
   ],
   "source": [
    "print(classification_report(y_test, y_pred, target_names=target_name))"
   ]
  },
  {
   "cell_type": "markdown",
   "metadata": {
    "id": "_nFRODWwss_M"
   },
   "source": [
    "# Random Forest"
   ]
  },
  {
   "cell_type": "code",
   "execution_count": 41,
   "metadata": {
    "id": "zhL4UQM2tZD8"
   },
   "outputs": [],
   "source": [
    "rf = RandomForestClassifier(n_estimators=200, random_state=42)"
   ]
  },
  {
   "cell_type": "code",
   "execution_count": 42,
   "metadata": {
    "colab": {
     "base_uri": "https://localhost:8080/",
     "height": 74
    },
    "id": "wDimG1I4tb9S",
    "outputId": "02630ad3-7eb5-4015-dfbb-e7ab299fbcc7"
   },
   "outputs": [
    {
     "data": {
      "text/html": [
       "<style>#sk-container-id-5 {color: black;background-color: white;}#sk-container-id-5 pre{padding: 0;}#sk-container-id-5 div.sk-toggleable {background-color: white;}#sk-container-id-5 label.sk-toggleable__label {cursor: pointer;display: block;width: 100%;margin-bottom: 0;padding: 0.3em;box-sizing: border-box;text-align: center;}#sk-container-id-5 label.sk-toggleable__label-arrow:before {content: \"▸\";float: left;margin-right: 0.25em;color: #696969;}#sk-container-id-5 label.sk-toggleable__label-arrow:hover:before {color: black;}#sk-container-id-5 div.sk-estimator:hover label.sk-toggleable__label-arrow:before {color: black;}#sk-container-id-5 div.sk-toggleable__content {max-height: 0;max-width: 0;overflow: hidden;text-align: left;background-color: #f0f8ff;}#sk-container-id-5 div.sk-toggleable__content pre {margin: 0.2em;color: black;border-radius: 0.25em;background-color: #f0f8ff;}#sk-container-id-5 input.sk-toggleable__control:checked~div.sk-toggleable__content {max-height: 200px;max-width: 100%;overflow: auto;}#sk-container-id-5 input.sk-toggleable__control:checked~label.sk-toggleable__label-arrow:before {content: \"▾\";}#sk-container-id-5 div.sk-estimator input.sk-toggleable__control:checked~label.sk-toggleable__label {background-color: #d4ebff;}#sk-container-id-5 div.sk-label input.sk-toggleable__control:checked~label.sk-toggleable__label {background-color: #d4ebff;}#sk-container-id-5 input.sk-hidden--visually {border: 0;clip: rect(1px 1px 1px 1px);clip: rect(1px, 1px, 1px, 1px);height: 1px;margin: -1px;overflow: hidden;padding: 0;position: absolute;width: 1px;}#sk-container-id-5 div.sk-estimator {font-family: monospace;background-color: #f0f8ff;border: 1px dotted black;border-radius: 0.25em;box-sizing: border-box;margin-bottom: 0.5em;}#sk-container-id-5 div.sk-estimator:hover {background-color: #d4ebff;}#sk-container-id-5 div.sk-parallel-item::after {content: \"\";width: 100%;border-bottom: 1px solid gray;flex-grow: 1;}#sk-container-id-5 div.sk-label:hover label.sk-toggleable__label {background-color: #d4ebff;}#sk-container-id-5 div.sk-serial::before {content: \"\";position: absolute;border-left: 1px solid gray;box-sizing: border-box;top: 0;bottom: 0;left: 50%;z-index: 0;}#sk-container-id-5 div.sk-serial {display: flex;flex-direction: column;align-items: center;background-color: white;padding-right: 0.2em;padding-left: 0.2em;position: relative;}#sk-container-id-5 div.sk-item {position: relative;z-index: 1;}#sk-container-id-5 div.sk-parallel {display: flex;align-items: stretch;justify-content: center;background-color: white;position: relative;}#sk-container-id-5 div.sk-item::before, #sk-container-id-5 div.sk-parallel-item::before {content: \"\";position: absolute;border-left: 1px solid gray;box-sizing: border-box;top: 0;bottom: 0;left: 50%;z-index: -1;}#sk-container-id-5 div.sk-parallel-item {display: flex;flex-direction: column;z-index: 1;position: relative;background-color: white;}#sk-container-id-5 div.sk-parallel-item:first-child::after {align-self: flex-end;width: 50%;}#sk-container-id-5 div.sk-parallel-item:last-child::after {align-self: flex-start;width: 50%;}#sk-container-id-5 div.sk-parallel-item:only-child::after {width: 0;}#sk-container-id-5 div.sk-dashed-wrapped {border: 1px dashed gray;margin: 0 0.4em 0.5em 0.4em;box-sizing: border-box;padding-bottom: 0.4em;background-color: white;}#sk-container-id-5 div.sk-label label {font-family: monospace;font-weight: bold;display: inline-block;line-height: 1.2em;}#sk-container-id-5 div.sk-label-container {text-align: center;}#sk-container-id-5 div.sk-container {/* jupyter's `normalize.less` sets `[hidden] { display: none; }` but bootstrap.min.css set `[hidden] { display: none !important; }` so we also need the `!important` here to be able to override the default hidden behavior on the sphinx rendered scikit-learn.org. See: https://github.com/scikit-learn/scikit-learn/issues/21755 */display: inline-block !important;position: relative;}#sk-container-id-5 div.sk-text-repr-fallback {display: none;}</style><div id=\"sk-container-id-5\" class=\"sk-top-container\"><div class=\"sk-text-repr-fallback\"><pre>RandomForestClassifier(n_estimators=200, random_state=42)</pre><b>In a Jupyter environment, please rerun this cell to show the HTML representation or trust the notebook. <br />On GitHub, the HTML representation is unable to render, please try loading this page with nbviewer.org.</b></div><div class=\"sk-container\" hidden><div class=\"sk-item\"><div class=\"sk-estimator sk-toggleable\"><input class=\"sk-toggleable__control sk-hidden--visually\" id=\"sk-estimator-id-5\" type=\"checkbox\" checked><label for=\"sk-estimator-id-5\" class=\"sk-toggleable__label sk-toggleable__label-arrow\">RandomForestClassifier</label><div class=\"sk-toggleable__content\"><pre>RandomForestClassifier(n_estimators=200, random_state=42)</pre></div></div></div></div></div>"
      ],
      "text/plain": [
       "RandomForestClassifier(n_estimators=200, random_state=42)"
      ]
     },
     "execution_count": 42,
     "metadata": {},
     "output_type": "execute_result"
    }
   ],
   "source": [
    "rf.fit(X_train, y_train)"
   ]
  },
  {
   "cell_type": "code",
   "execution_count": 43,
   "metadata": {
    "id": "tyrDXU8itg3c"
   },
   "outputs": [],
   "source": [
    "y_pred = rf.predict(X_test)"
   ]
  },
  {
   "cell_type": "code",
   "execution_count": 44,
   "metadata": {
    "colab": {
     "base_uri": "https://localhost:8080/"
    },
    "id": "WXhaTxnbtmrK",
    "outputId": "bd776333-a791-4c48-f558-c2736e66f3ea"
   },
   "outputs": [
    {
     "name": "stdout",
     "output_type": "stream",
     "text": [
      "Accuracy: 61.92%\n"
     ]
    }
   ],
   "source": [
    "accuracy = accuracy_score(y_test, y_pred)\n",
    "print(f\"Accuracy: {accuracy * 100:.2f}%\")\n"
   ]
  },
  {
   "cell_type": "code",
   "execution_count": 46,
   "metadata": {
    "colab": {
     "base_uri": "https://localhost:8080/"
    },
    "id": "qFA5QtYit5GM",
    "outputId": "269fd0c5-5708-40d3-ca14-183a591c54df"
   },
   "outputs": [
    {
     "name": "stdout",
     "output_type": "stream",
     "text": [
      "              precision    recall  f1-score   support\n",
      "\n",
      "           1       0.81      0.03      0.05       476\n",
      "           2       0.57      0.80      0.66      1184\n",
      "           3       0.00      0.00      0.00       439\n",
      "           4       0.67      0.89      0.76      1252\n",
      "\n",
      "    accuracy                           0.62      3351\n",
      "   macro avg       0.51      0.43      0.37      3351\n",
      "weighted avg       0.57      0.62      0.53      3351\n",
      "\n"
     ]
    },
    {
     "name": "stderr",
     "output_type": "stream",
     "text": [
      "C:\\ProgramData\\anaconda3\\Lib\\site-packages\\sklearn\\metrics\\_classification.py:1344: UndefinedMetricWarning: Precision and F-score are ill-defined and being set to 0.0 in labels with no predicted samples. Use `zero_division` parameter to control this behavior.\n",
      "  _warn_prf(average, modifier, msg_start, len(result))\n",
      "C:\\ProgramData\\anaconda3\\Lib\\site-packages\\sklearn\\metrics\\_classification.py:1344: UndefinedMetricWarning: Precision and F-score are ill-defined and being set to 0.0 in labels with no predicted samples. Use `zero_division` parameter to control this behavior.\n",
      "  _warn_prf(average, modifier, msg_start, len(result))\n",
      "C:\\ProgramData\\anaconda3\\Lib\\site-packages\\sklearn\\metrics\\_classification.py:1344: UndefinedMetricWarning: Precision and F-score are ill-defined and being set to 0.0 in labels with no predicted samples. Use `zero_division` parameter to control this behavior.\n",
      "  _warn_prf(average, modifier, msg_start, len(result))\n"
     ]
    }
   ],
   "source": [
    "print(classification_report(y_test, y_pred, target_names=target_name))"
   ]
  },
  {
   "cell_type": "code",
   "execution_count": 47,
   "metadata": {
    "colab": {
     "base_uri": "https://localhost:8080/"
    },
    "id": "6NCDv0v2u1eV",
    "outputId": "c04fd235-6e1a-48c1-9f57-e6bb0218fa73"
   },
   "outputs": [
    {
     "name": "stdout",
     "output_type": "stream",
     "text": [
      "sepal length (cm): 0.0023\n",
      "sepal width (cm): 0.0006\n",
      "petal length (cm): 0.0006\n",
      "petal width (cm): 0.0006\n"
     ]
    }
   ],
   "source": [
    "from sklearn.datasets import load_iris\n",
    "\n",
    "iris = load_iris()  # Load the iris dataset\n",
    "importances = rf.feature_importances_\n",
    "for feature, importance in zip(iris.feature_names, importances):\n",
    "    print(f'{feature}: {importance:.4f}')\n"
   ]
  },
  {
   "cell_type": "markdown",
   "metadata": {
    "id": "6ZQerkQzumak"
   },
   "source": [
    "# Linear Regression"
   ]
  },
  {
   "cell_type": "code",
   "execution_count": null,
   "metadata": {
    "id": "valyY2wRvjFa"
   },
   "outputs": [],
   "source": [
    "from sklearn.linear_model import LinearRegression"
   ]
  },
  {
   "cell_type": "code",
   "execution_count": null,
   "metadata": {
    "id": "crrU81davWwK"
   },
   "outputs": [],
   "source": [
    "lr = LinearRegression()"
   ]
  },
  {
   "cell_type": "code",
   "execution_count": null,
   "metadata": {
    "colab": {
     "base_uri": "https://localhost:8080/",
     "height": 74
    },
    "id": "nVJfn_HZvcPa",
    "outputId": "77a9523c-b917-4834-bf6b-f2f2372eadea"
   },
   "outputs": [
    {
     "data": {
      "text/html": [
       "<style>#sk-container-id-6 {color: black;background-color: white;}#sk-container-id-6 pre{padding: 0;}#sk-container-id-6 div.sk-toggleable {background-color: white;}#sk-container-id-6 label.sk-toggleable__label {cursor: pointer;display: block;width: 100%;margin-bottom: 0;padding: 0.3em;box-sizing: border-box;text-align: center;}#sk-container-id-6 label.sk-toggleable__label-arrow:before {content: \"▸\";float: left;margin-right: 0.25em;color: #696969;}#sk-container-id-6 label.sk-toggleable__label-arrow:hover:before {color: black;}#sk-container-id-6 div.sk-estimator:hover label.sk-toggleable__label-arrow:before {color: black;}#sk-container-id-6 div.sk-toggleable__content {max-height: 0;max-width: 0;overflow: hidden;text-align: left;background-color: #f0f8ff;}#sk-container-id-6 div.sk-toggleable__content pre {margin: 0.2em;color: black;border-radius: 0.25em;background-color: #f0f8ff;}#sk-container-id-6 input.sk-toggleable__control:checked~div.sk-toggleable__content {max-height: 200px;max-width: 100%;overflow: auto;}#sk-container-id-6 input.sk-toggleable__control:checked~label.sk-toggleable__label-arrow:before {content: \"▾\";}#sk-container-id-6 div.sk-estimator input.sk-toggleable__control:checked~label.sk-toggleable__label {background-color: #d4ebff;}#sk-container-id-6 div.sk-label input.sk-toggleable__control:checked~label.sk-toggleable__label {background-color: #d4ebff;}#sk-container-id-6 input.sk-hidden--visually {border: 0;clip: rect(1px 1px 1px 1px);clip: rect(1px, 1px, 1px, 1px);height: 1px;margin: -1px;overflow: hidden;padding: 0;position: absolute;width: 1px;}#sk-container-id-6 div.sk-estimator {font-family: monospace;background-color: #f0f8ff;border: 1px dotted black;border-radius: 0.25em;box-sizing: border-box;margin-bottom: 0.5em;}#sk-container-id-6 div.sk-estimator:hover {background-color: #d4ebff;}#sk-container-id-6 div.sk-parallel-item::after {content: \"\";width: 100%;border-bottom: 1px solid gray;flex-grow: 1;}#sk-container-id-6 div.sk-label:hover label.sk-toggleable__label {background-color: #d4ebff;}#sk-container-id-6 div.sk-serial::before {content: \"\";position: absolute;border-left: 1px solid gray;box-sizing: border-box;top: 0;bottom: 0;left: 50%;z-index: 0;}#sk-container-id-6 div.sk-serial {display: flex;flex-direction: column;align-items: center;background-color: white;padding-right: 0.2em;padding-left: 0.2em;position: relative;}#sk-container-id-6 div.sk-item {position: relative;z-index: 1;}#sk-container-id-6 div.sk-parallel {display: flex;align-items: stretch;justify-content: center;background-color: white;position: relative;}#sk-container-id-6 div.sk-item::before, #sk-container-id-6 div.sk-parallel-item::before {content: \"\";position: absolute;border-left: 1px solid gray;box-sizing: border-box;top: 0;bottom: 0;left: 50%;z-index: -1;}#sk-container-id-6 div.sk-parallel-item {display: flex;flex-direction: column;z-index: 1;position: relative;background-color: white;}#sk-container-id-6 div.sk-parallel-item:first-child::after {align-self: flex-end;width: 50%;}#sk-container-id-6 div.sk-parallel-item:last-child::after {align-self: flex-start;width: 50%;}#sk-container-id-6 div.sk-parallel-item:only-child::after {width: 0;}#sk-container-id-6 div.sk-dashed-wrapped {border: 1px dashed gray;margin: 0 0.4em 0.5em 0.4em;box-sizing: border-box;padding-bottom: 0.4em;background-color: white;}#sk-container-id-6 div.sk-label label {font-family: monospace;font-weight: bold;display: inline-block;line-height: 1.2em;}#sk-container-id-6 div.sk-label-container {text-align: center;}#sk-container-id-6 div.sk-container {/* jupyter's `normalize.less` sets `[hidden] { display: none; }` but bootstrap.min.css set `[hidden] { display: none !important; }` so we also need the `!important` here to be able to override the default hidden behavior on the sphinx rendered scikit-learn.org. See: https://github.com/scikit-learn/scikit-learn/issues/21755 */display: inline-block !important;position: relative;}#sk-container-id-6 div.sk-text-repr-fallback {display: none;}</style><div id=\"sk-container-id-6\" class=\"sk-top-container\"><div class=\"sk-text-repr-fallback\"><pre>LinearRegression()</pre><b>In a Jupyter environment, please rerun this cell to show the HTML representation or trust the notebook. <br />On GitHub, the HTML representation is unable to render, please try loading this page with nbviewer.org.</b></div><div class=\"sk-container\" hidden><div class=\"sk-item\"><div class=\"sk-estimator sk-toggleable\"><input class=\"sk-toggleable__control sk-hidden--visually\" id=\"sk-estimator-id-6\" type=\"checkbox\" checked><label for=\"sk-estimator-id-6\" class=\"sk-toggleable__label sk-toggleable__label-arrow\">LinearRegression</label><div class=\"sk-toggleable__content\"><pre>LinearRegression()</pre></div></div></div></div></div>"
      ],
      "text/plain": [
       "LinearRegression()"
      ]
     },
     "execution_count": 58,
     "metadata": {},
     "output_type": "execute_result"
    }
   ],
   "source": [
    "lr.fit(X_train, y_train)"
   ]
  },
  {
   "cell_type": "code",
   "execution_count": null,
   "metadata": {
    "id": "7HKebhJXvoVn"
   },
   "outputs": [],
   "source": [
    "y_pred = lr.predict(X_test)"
   ]
  },
  {
   "cell_type": "code",
   "execution_count": null,
   "metadata": {
    "colab": {
     "base_uri": "https://localhost:8080/"
    },
    "id": "-RBVUoaGvsDb",
    "outputId": "df9e3487-5c95-444a-de13-936ac51662e9"
   },
   "outputs": [
    {
     "name": "stdout",
     "output_type": "stream",
     "text": [
      "Mean Squared Error: 0.36\n"
     ]
    }
   ],
   "source": [
    "from sklearn.metrics import mean_squared_error # Import the missing function\n",
    "\n",
    "mse = mean_squared_error(y_test, y_pred)\n",
    "print(f\"Mean Squared Error: {mse:.2f}\")\n"
   ]
  },
  {
   "cell_type": "code",
   "execution_count": null,
   "metadata": {
    "colab": {
     "base_uri": "https://localhost:8080/"
    },
    "id": "wDKzQ2DfvxKF",
    "outputId": "7c903e27-1609-4774-dcd9-0ef0da74dad3"
   },
   "outputs": [
    {
     "name": "stdout",
     "output_type": "stream",
     "text": [
      "R^2 Score: 0.70\n"
     ]
    }
   ],
   "source": [
    "from sklearn.metrics import mean_squared_error, r2_score # Import r2_score\n",
    "\n",
    "r2 = r2_score(y_test, y_pred)\n",
    "print(f\"R^2 Score: {r2:.2f}\")"
   ]
  },
  {
   "cell_type": "markdown",
   "metadata": {
    "id": "JDt7nOLeyeem"
   },
   "source": [
    "# EfficientNet"
   ]
  },
  {
   "cell_type": "code",
   "execution_count": null,
   "metadata": {
    "id": "iyz_KPvryhgL"
   },
   "outputs": [],
   "source": [
    "import tensorflow as tf\n",
    "from tensorflow.keras.preprocessing.image import ImageDataGenerator\n",
    "from tensorflow.keras.applications import EfficientNetB0\n",
    "from tensorflow.keras.models import Model\n",
    "from tensorflow.keras.layers import Dense, GlobalAveragePooling2D\n",
    "from tensorflow.keras.optimizers import Adam\n",
    "from tensorflow.keras.callbacks import EarlyStopping, ModelCheckpoint\n"
   ]
  },
  {
   "cell_type": "code",
   "execution_count": null,
   "metadata": {
    "colab": {
     "base_uri": "https://localhost:8080/"
    },
    "id": "MsBiORn9z3KW",
    "outputId": "a63f3d94-edf2-4dfa-9b8a-16e04498a3a3"
   },
   "outputs": [
    {
     "name": "stdout",
     "output_type": "stream",
     "text": [
      "Found 0 images belonging to 4 classes.\n",
      "Found 0 images belonging to 0 classes.\n"
     ]
    }
   ],
   "source": [
    "# Define the path to your dataset\n",
    "train_dir = '/content/'\n",
    "csv_files = glob.glob(path + '*.csv')\n",
    "dfs = []\n",
    "for file in csv_files:\n",
    "    df = pd.read_csv(file, delimiter=';')\n",
    "    dfs.append(df)\n",
    "\n",
    "combined_df = pd.concat(dfs, ignore_index=True)\n",
    "# val_dir should point to a directory containing images, not a CSV file\n",
    "val_dir = '/content/testdata/'  # Update with the correct directory path\n",
    "\n",
    "# Create ImageDataGenerator instances for training and validation\n",
    "train_datagen = ImageDataGenerator(\n",
    "    rescale=1./255,\n",
    "    rotation_range=40,\n",
    "    width_shift_range=0.2,\n",
    "    height_shift_range=0.2,\n",
    "    shear_range=0.2,\n",
    "    zoom_range=0.2,\n",
    "    horizontal_flip=True,\n",
    "    fill_mode='nearest'\n",
    ")\n",
    "\n",
    "val_datagen = ImageDataGenerator(rescale=1./255)\n",
    "\n",
    "# Create generators for training and validation data\n",
    "train_generator = train_datagen.flow_from_directory(\n",
    "    train_dir,\n",
    "    target_size=(224, 224),\n",
    "    batch_size=32,\n",
    "    class_mode='categorical'\n",
    ")\n",
    "\n",
    "val_generator = val_datagen.flow_from_directory(\n",
    "    val_dir,  # Now points to the correct directory\n",
    "    target_size=(224, 224),\n",
    "    batch_size=32,\n",
    "    class_mode='categorical'\n",
    ")"
   ]
  },
  {
   "cell_type": "code",
   "execution_count": null,
   "metadata": {
    "colab": {
     "base_uri": "https://localhost:8080/"
    },
    "id": "p6-eFqV12Crn",
    "outputId": "a2f6e476-da12-4e36-9852-92f360cd4d69"
   },
   "outputs": [
    {
     "name": "stdout",
     "output_type": "stream",
     "text": [
      "Downloading data from https://storage.googleapis.com/keras-applications/efficientnetb0_notop.h5\n",
      "16705208/16705208 [==============================] - 0s 0us/step\n"
     ]
    }
   ],
   "source": [
    "# Load the EfficientNetB0 model with pre-trained weights\n",
    "base_model = EfficientNetB0(include_top=False, weights='imagenet', input_shape=(224, 224, 3))\n",
    "\n",
    "# Add custom layers on top\n",
    "x = base_model.output\n",
    "x = GlobalAveragePooling2D()(x)\n",
    "x = Dense(1024, activation='relu')(x)\n",
    "predictions = Dense(train_generator.num_classes, activation='softmax')(x)\n",
    "\n",
    "# Create the final model\n",
    "model = Model(inputs=base_model.input, outputs=predictions)\n",
    "\n",
    "# Freeze the layers of the base model\n",
    "for layer in base_model.layers:\n",
    "    layer.trainable = False\n"
   ]
  },
  {
   "cell_type": "code",
   "execution_count": null,
   "metadata": {
    "id": "PB-ySQ_z2IWN"
   },
   "outputs": [],
   "source": [
    "# Compile the model\n",
    "model.compile(optimizer=Adam(), loss='categorical_crossentropy', metrics=['accuracy'])\n"
   ]
  },
  {
   "cell_type": "code",
   "execution_count": null,
   "metadata": {
    "colab": {
     "base_uri": "https://localhost:8080/"
    },
    "id": "ytfZtD5C2KNw",
    "outputId": "4f11082d-75ac-4595-ab0e-b1f5b4cdd5ca"
   },
   "outputs": [
    {
     "name": "stdout",
     "output_type": "stream",
     "text": [
      "Found 0 images belonging to 4 classes.\n",
      "Number of images found in training directory: 0\n",
      "Found 0 images belonging to 0 classes.\n",
      "Number of images found in validation directory: 0\n"
     ]
    }
   ],
   "source": [
    "import os # Import the os module\n",
    "\n",
    "# ... (rest of your code)\n",
    "\n",
    "# Create generators for training and validation data\n",
    "train_generator = train_datagen.flow_from_directory(\n",
    "    train_dir,\n",
    "    target_size=(224, 224),\n",
    "    batch_size=32,\n",
    "    class_mode='categorical'\n",
    ")\n",
    "\n",
    "# Print the number of images found in the training directory\n",
    "print(\"Number of images found in training directory:\", train_generator.samples)\n",
    "\n",
    "val_generator = val_datagen.flow_from_directory(\n",
    "    val_dir,  # Now points to the correct directory\n",
    "    target_size=(224, 224),\n",
    "    batch_size=32,\n",
    "    class_mode='categorical'\n",
    ")\n",
    "\n",
    "# Print the number of images found in the validation directory\n",
    "print(\"Number of images found in validation directory:\", val_generator.samples)\n",
    "\n",
    "# ... (rest of your code)"
   ]
  },
  {
   "cell_type": "code",
   "execution_count": null,
   "metadata": {
    "colab": {
     "base_uri": "https://localhost:8080/"
    },
    "id": "G3PAx3oQ2LQT",
    "outputId": "3b654213-ef38-4c37-cd47-4af894828095"
   },
   "outputs": [
    {
     "name": "stdout",
     "output_type": "stream",
     "text": [
      "Found 0 images belonging to 4 classes.\n",
      "Number of images found in training directory: 0\n",
      "Found 0 images belonging to 0 classes.\n",
      "Number of images found in validation directory: 0\n"
     ]
    }
   ],
   "source": [
    "import os # Import the os module\n",
    "\n",
    "# ... (rest of your code)\n",
    "\n",
    "# Create generators for training and validation data\n",
    "train_generator = train_datagen.flow_from_directory(\n",
    "    train_dir,\n",
    "    target_size=(224, 224),\n",
    "    batch_size=32,\n",
    "    class_mode='categorical'\n",
    ")\n",
    "\n",
    "# Print the number of images found in the training directory\n",
    "print(\"Number of images found in training directory:\", train_generator.samples)\n",
    "\n",
    "val_generator = val_datagen.flow_from_directory(\n",
    "    val_dir,  # Now points to the correct directory\n",
    "    target_size=(224, 224),\n",
    "    batch_size=32,\n",
    "    class_mode='categorical'\n",
    ")\n",
    "\n",
    "# Print the number of images found in the validation directory\n",
    "print(\"Number of images found in validation directory:\", val_generator.samples)\n",
    "\n",
    "# ... (rest of your code)"
   ]
  }
 ],
 "metadata": {
  "colab": {
   "provenance": []
  },
  "kernelspec": {
   "display_name": "Python 3 (ipykernel)",
   "language": "python",
   "name": "python3"
  },
  "language_info": {
   "codemirror_mode": {
    "name": "ipython",
    "version": 3
   },
   "file_extension": ".py",
   "mimetype": "text/x-python",
   "name": "python",
   "nbconvert_exporter": "python",
   "pygments_lexer": "ipython3",
   "version": "3.11.7"
  }
 },
 "nbformat": 4,
 "nbformat_minor": 1
}
