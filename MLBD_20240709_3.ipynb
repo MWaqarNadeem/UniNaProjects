{
 "cells": [
  {
   "cell_type": "markdown",
   "id": "fb4e2613",
   "metadata": {},
   "source": [
    "# MACHINE LEARNING PROJECT\n"
   ]
  },
  {
   "cell_type": "markdown",
   "id": "e7dc514e",
   "metadata": {},
   "source": [
    "## Importing packages"
   ]
  },
  {
   "cell_type": "code",
   "execution_count": 1,
   "id": "97c53021",
   "metadata": {},
   "outputs": [],
   "source": [
    "import pandas as pd\n",
    "import glob\n",
    "import numpy as np\n",
    "import matplotlib.pyplot as plt\n",
    "import time"
   ]
  },
  {
   "cell_type": "code",
   "execution_count": 2,
   "id": "8c958f89",
   "metadata": {},
   "outputs": [],
   "source": [
    "from sklearn.model_selection import train_test_split\n",
    "from sklearn.metrics import accuracy_score, classification_report\n",
    "from sklearn.preprocessing import StandardScaler\n",
    "from sklearn.model_selection import GridSearchCV\n",
    "from sklearn.decomposition import PCA"
   ]
  },
  {
   "cell_type": "code",
   "execution_count": 3,
   "id": "7146bb80",
   "metadata": {},
   "outputs": [],
   "source": [
    "from sklearn.ensemble import RandomForestClassifier\n",
    "from sklearn.naive_bayes import GaussianNB\n",
    "from sklearn.tree import DecisionTreeClassifier\n",
    "from sklearn.svm import SVC\n",
    "from sklearn.linear_model import LogisticRegression\n",
    "from sklearn.ensemble import GradientBoostingClassifier\n",
    "from xgboost import XGBClassifier"
   ]
  },
  {
   "cell_type": "markdown",
   "id": "1cc905da",
   "metadata": {},
   "source": [
    "## Loading dataset\n"
   ]
  },
  {
   "cell_type": "code",
   "execution_count": 4,
   "id": "c65ba057",
   "metadata": {},
   "outputs": [],
   "source": [
    "def load_data(file_pattern, delimiter=';'):\n",
    "    files = glob.glob(file_pattern)\n",
    "    dfs = [pd.read_csv(file, delimiter=delimiter) for file in files]\n",
    "    return pd.concat(dfs, ignore_index=True)"
   ]
  },
  {
   "cell_type": "code",
   "execution_count": 5,
   "id": "afcf229b",
   "metadata": {},
   "outputs": [],
   "source": [
    "# Load training data for each neural network\n",
    "efficientnet_train_data = load_data('EfficientNet/TRAIN_*.csv')\n",
    "mobilenet_train_data = load_data('MobileNet/TRAIN_*.csv')\n",
    "resnet_train_data = load_data('ResNet/TRAIN_*.csv')"
   ]
  },
  {
   "cell_type": "code",
   "execution_count": 6,
   "id": "6ea9ceb3",
   "metadata": {},
   "outputs": [],
   "source": [
    "efficientnet_test_data = pd.read_csv('efficientNet_test/TEST.csv', delimiter=';')\n",
    "mobilenet_test_data = pd.read_csv('mobileNet_test/TEST.csv', delimiter=';')\n",
    "resnet_test_data = pd.read_csv('resNet_test/TEST.csv', delimiter=';')"
   ]
  },
  {
   "cell_type": "markdown",
   "id": "9db82e68",
   "metadata": {},
   "source": [
    "### Combining dataset"
   ]
  },
  {
   "cell_type": "code",
   "execution_count": 7,
   "id": "632e8407",
   "metadata": {},
   "outputs": [],
   "source": [
    "train_data = pd.concat([efficientnet_train_data, mobilenet_train_data, resnet_train_data], ignore_index=True)\n",
    "test_data = pd.concat([efficientnet_test_data, mobilenet_test_data, resnet_test_data], ignore_index=True)"
   ]
  },
  {
   "cell_type": "code",
   "execution_count": 8,
   "id": "2b35515f",
   "metadata": {},
   "outputs": [],
   "source": [
    "#train_data.describe()"
   ]
  },
  {
   "cell_type": "code",
   "execution_count": 9,
   "id": "cdfbcdcc",
   "metadata": {},
   "outputs": [],
   "source": [
    "#train_data.head()"
   ]
  },
  {
   "cell_type": "code",
   "execution_count": 10,
   "id": "be97b519",
   "metadata": {},
   "outputs": [],
   "source": [
    "# Saving data to csv to confirm the proper concatination of data\n",
    "#train_data.to_csv('combined_train_data.csv', index=False)\n",
    "#test_data.to_csv('combined_test_data.csv', index=False)"
   ]
  },
  {
   "cell_type": "markdown",
   "id": "4af44dcc",
   "metadata": {},
   "source": [
    "## Pre-processing & Normalization"
   ]
  },
  {
   "cell_type": "code",
   "execution_count": 11,
   "id": "76398191",
   "metadata": {},
   "outputs": [],
   "source": [
    "# Dropping the first column \n",
    "# train_data.drop('Unnamed', axis=1)"
   ]
  },
  {
   "cell_type": "markdown",
   "id": "4e2cf2f0",
   "metadata": {},
   "source": [
    "**_X_train_** is dataset without last three columns\n",
    "\n",
    "**_y_train_** contains only **_labels_** column\n",
    "\n",
    "**_X_test_img_** is the test dataset without **_image_** column\n",
    "\n",
    "**_y_test_img_** contains only **_image_** column"
   ]
  },
  {
   "cell_type": "code",
   "execution_count": 12,
   "id": "9f2b9a4c",
   "metadata": {},
   "outputs": [],
   "source": [
    "# Separate features and labels\n",
    "X_train = train_data.drop(['images', 'cone_name', 'label'], axis=1)\n",
    "y_train = train_data['label']\n",
    "X_test_img = test_data.drop('image', axis=1)\n",
    "y_test_img = test_data['image']"
   ]
  },
  {
   "cell_type": "code",
   "execution_count": 13,
   "id": "5328e3cc",
   "metadata": {},
   "outputs": [],
   "source": [
    "#from sklearn.impute import SimpleImputer\n",
    "\n",
    "#imputer = SimpleImputer(strategy='mean')\n",
    "#X_train_imputed = imputer.fit_transform(X_train)\n",
    "#\n",
    "# Ensure imputation has been done correctly\n",
    "#X_train_imputed = pd.DataFrame(X_train_imputed, columns=X_train.columns)"
   ]
  },
  {
   "cell_type": "markdown",
   "id": "326083f3",
   "metadata": {},
   "source": [
    "Large portion of dataset is missing values, imputation might not be reliable.\n",
    "\n",
    "Consider models that can handle missing values inherently, such as tree-based models\n",
    "\n",
    "Some models inherently handle missing values better than others. For example, Decision Trees \n",
    "\n",
    "and Random Forests can handle missing values by making decisions based on available data, \n",
    "\n",
    "while linear models and Naive Bayes typically require complete data."
   ]
  },
  {
   "cell_type": "code",
   "execution_count": 14,
   "id": "adb80a74",
   "metadata": {},
   "outputs": [],
   "source": [
    "#X_train = X_train_imputed"
   ]
  },
  {
   "cell_type": "code",
   "execution_count": 15,
   "id": "e2dd7eee",
   "metadata": {},
   "outputs": [],
   "source": [
    "#X_train.head()"
   ]
  },
  {
   "cell_type": "code",
   "execution_count": 16,
   "id": "f31670c3",
   "metadata": {},
   "outputs": [],
   "source": [
    "#X_test_img.head()"
   ]
  },
  {
   "cell_type": "code",
   "execution_count": 17,
   "id": "3ba215ed",
   "metadata": {},
   "outputs": [],
   "source": [
    "#y_train.head()"
   ]
  },
  {
   "cell_type": "code",
   "execution_count": 18,
   "id": "fc8de1cd",
   "metadata": {},
   "outputs": [],
   "source": [
    "#y_test_img.head()"
   ]
  },
  {
   "cell_type": "code",
   "execution_count": 19,
   "id": "a6bc5e8f",
   "metadata": {},
   "outputs": [],
   "source": [
    "#X_train.describe()"
   ]
  },
  {
   "cell_type": "code",
   "execution_count": 20,
   "id": "3873f310",
   "metadata": {},
   "outputs": [],
   "source": [
    "# Don't drop any row because \n",
    "\n",
    "#X_train.dropna(inplace=True)\n",
    "#X_train.describe()"
   ]
  },
  {
   "cell_type": "code",
   "execution_count": 21,
   "id": "e87bea41",
   "metadata": {},
   "outputs": [],
   "source": [
    "# CHeck if normalization is needed\n",
    "#scaler = StandardScaler()\n",
    "#scaler.fit(X)\n",
    "#X = scaler.transform(X)"
   ]
  },
  {
   "cell_type": "markdown",
   "id": "72bf932d",
   "metadata": {},
   "source": [
    "## PCA Dimensionality Reduction"
   ]
  },
  {
   "cell_type": "code",
   "execution_count": 22,
   "id": "eb68f5f5",
   "metadata": {},
   "outputs": [],
   "source": [
    "# Dimensionality reduction using PCA\n",
    "#pca = PCA(n_components=512)\n",
    "#X_train_pca = pca.fit_transform(X_train)\n",
    "#X_test_pca = pca.transform(X_test_img)"
   ]
  },
  {
   "cell_type": "markdown",
   "id": "f020f264",
   "metadata": {},
   "source": [
    "## Train-Test splitting"
   ]
  },
  {
   "cell_type": "markdown",
   "id": "65fba967",
   "metadata": {},
   "source": [
    "Splitting **_train_** dataset into **70/30** ratio\n",
    "\n",
    "**_X_train_** is dataset without last three columns\n",
    "\n",
    "**_y_train_** contains only **_labels_** column\n",
    "\n",
    "**_X_test_img_** is the test dataset without **_image_** column\n",
    "\n",
    "**_y_test_img_** contains only **_image_** column"
   ]
  },
  {
   "cell_type": "code",
   "execution_count": 23,
   "id": "93b22027",
   "metadata": {},
   "outputs": [],
   "source": [
    "X_train, X_test, y_train, y_test = train_test_split(X_train, y_train, test_size=0.3, random_state=42)"
   ]
  },
  {
   "cell_type": "code",
   "execution_count": 24,
   "id": "25916371",
   "metadata": {},
   "outputs": [],
   "source": [
    "#X_train.describe()"
   ]
  },
  {
   "cell_type": "markdown",
   "id": "d1a18084",
   "metadata": {},
   "source": [
    "# Gradient Boosting\n",
    "\n"
   ]
  },
  {
   "cell_type": "code",
   "execution_count": 25,
   "id": "b54348b9",
   "metadata": {},
   "outputs": [],
   "source": [
    "y_train = y_train - 1\n",
    "y_test = y_test - 1"
   ]
  },
  {
   "cell_type": "code",
   "execution_count": null,
   "id": "2096b91d",
   "metadata": {},
   "outputs": [],
   "source": [
    "#from xgboost import XGBClassifier\n",
    "\n",
    "xgb_model = XGBClassifier(n_estimators=400, random_state=42)\n",
    "\n",
    "# Train the model\n",
    "start_time = time.time()\n",
    "xgb_model.fit(X_train, y_train)\n",
    "end_time = time.time()\n",
    "\n",
    "train_time = end_time-start_time\n",
    "#print(f'Train time: {train_time}')"
   ]
  },
  {
   "cell_type": "code",
   "execution_count": null,
   "id": "be1d221c",
   "metadata": {},
   "outputs": [],
   "source": [
    "# Make predictions\n",
    "#y_pred_xgb = xgb_model.predict(X_test)\n",
    "\n",
    "# Evaluate accuracy\n",
    "#accuracy_xgb = accuracy_score(y_test, y_pred_xgb)\n",
    "#print(f'XGBoost Accuracy: {accuracy_xgb:.2f}')"
   ]
  },
  {
   "cell_type": "code",
   "execution_count": null,
   "id": "86e4c8cc",
   "metadata": {},
   "outputs": [],
   "source": [
    "\"\"\"# Define the parameter grid\n",
    "param_grid = {\n",
    "    'n_estimators': [400]\n",
    "}\n",
    "\n",
    "# Initialize the XGBClassifier\n",
    "xgb = XGBClassifier(random_state=42)\n",
    "\n",
    "# Initialize GridSearchCV\n",
    "start_time = time.time()\n",
    "grid_search = GridSearchCV(estimator=xgb, param_grid=param_grid, cv=3, scoring='accuracy', n_jobs=-1, verbose=2)\n",
    "\n",
    "# Fit GridSearchCV\n",
    "grid_search.fit(X_train, y_train)\n",
    "\n",
    "end_time = time.time()\n",
    "\n",
    "train_time = end_time-start_time\n",
    "print(f'Train time: {train_time}')\n",
    "\"\"\""
   ]
  },
  {
   "cell_type": "code",
   "execution_count": null,
   "id": "fdbcaa18",
   "metadata": {},
   "outputs": [],
   "source": [
    "\"\"\"# Best parameters and best score\n",
    "print(f'Best parameters: {grid_search.best_params_}')\n",
    "print(f'Best cross-validation accuracy: {grid_search.best_score_:.2f}')\n",
    "\n",
    "# Use the best model\n",
    "best_xgb = grid_search.best_estimator_\n",
    "best_xgb.fit(X_train, y_train)\n",
    "y_pred_best_xgb = best_xgb.predict(X_test)\n",
    "accuracy_best_xgb = accuracy_score(y_test, y_pred_best_xgb)\n",
    "print(f'XGBoost Best Model Accuracy: {accuracy_best_xgb:.2f}')\n",
    "\"\"\""
   ]
  }
 ],
 "metadata": {
  "kernelspec": {
   "display_name": "Python 3 (ipykernel)",
   "language": "python",
   "name": "python3"
  },
  "language_info": {
   "codemirror_mode": {
    "name": "ipython",
    "version": 3
   },
   "file_extension": ".py",
   "mimetype": "text/x-python",
   "name": "python",
   "nbconvert_exporter": "python",
   "pygments_lexer": "ipython3",
   "version": "3.11.7"
  }
 },
 "nbformat": 4,
 "nbformat_minor": 5
}
