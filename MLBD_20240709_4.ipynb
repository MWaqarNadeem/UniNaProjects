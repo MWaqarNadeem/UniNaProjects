{
 "cells": [
  {
   "cell_type": "markdown",
   "id": "8979a3c1",
   "metadata": {},
   "source": [
    "# MACHINE LEARNING PROJECT\n"
   ]
  },
  {
   "cell_type": "markdown",
   "id": "275d1bc2",
   "metadata": {},
   "source": [
    "## Importing packages"
   ]
  },
  {
   "cell_type": "code",
   "execution_count": 1,
   "id": "fb5cdd0d",
   "metadata": {},
   "outputs": [],
   "source": [
    "import pandas as pd\n",
    "import glob\n",
    "import numpy as np\n",
    "import matplotlib.pyplot as plt\n",
    "import time"
   ]
  },
  {
   "cell_type": "code",
   "execution_count": 2,
   "id": "3818a5ee",
   "metadata": {},
   "outputs": [],
   "source": [
    "from sklearn.model_selection import train_test_split\n",
    "from sklearn.metrics import accuracy_score, classification_report\n",
    "from sklearn.preprocessing import StandardScaler\n",
    "from sklearn.model_selection import GridSearchCV\n",
    "from sklearn.decomposition import PCA"
   ]
  },
  {
   "cell_type": "code",
   "execution_count": 3,
   "id": "bf83a263",
   "metadata": {},
   "outputs": [],
   "source": [
    "from sklearn.ensemble import RandomForestClassifier\n",
    "from sklearn.naive_bayes import GaussianNB\n",
    "from sklearn.tree import DecisionTreeClassifier\n",
    "from sklearn.svm import SVC\n",
    "from sklearn.linear_model import LogisticRegression\n",
    "from sklearn.ensemble import GradientBoostingClassifier\n",
    "from xgboost import XGBClassifier"
   ]
  },
  {
   "cell_type": "markdown",
   "id": "899fa070",
   "metadata": {},
   "source": [
    "## Loading dataset\n"
   ]
  },
  {
   "cell_type": "code",
   "execution_count": 4,
   "id": "dc81fcad",
   "metadata": {},
   "outputs": [],
   "source": [
    "def load_data(file_pattern, delimiter=';'):\n",
    "    files = glob.glob(file_pattern)\n",
    "    dfs = [pd.read_csv(file, delimiter=delimiter) for file in files]\n",
    "    return pd.concat(dfs, ignore_index=True)"
   ]
  },
  {
   "cell_type": "code",
   "execution_count": 5,
   "id": "f55175bb",
   "metadata": {},
   "outputs": [],
   "source": [
    "# Load training data for each neural network\n",
    "efficientnet_train_data = load_data('EfficientNet/TRAIN_*.csv')\n",
    "mobilenet_train_data = load_data('MobileNet/TRAIN_*.csv')"
   ]
  },
  {
   "cell_type": "code",
   "execution_count": 6,
   "id": "24d0c3e3",
   "metadata": {},
   "outputs": [],
   "source": [
    "resnet_train_data = load_data('ResNet/TRAIN_*.csv')"
   ]
  },
  {
   "cell_type": "code",
   "execution_count": 7,
   "id": "600529da",
   "metadata": {},
   "outputs": [],
   "source": [
    "efficientnet_test_data = pd.read_csv('efficientNet_test/TEST.csv', delimiter=';')\n",
    "mobilenet_test_data = pd.read_csv('mobileNet_test/TEST.csv', delimiter=';')"
   ]
  },
  {
   "cell_type": "code",
   "execution_count": 8,
   "id": "ff59c325",
   "metadata": {},
   "outputs": [],
   "source": [
    "resnet_test_data = pd.read_csv('resNet_test/TEST.csv', delimiter=';')"
   ]
  },
  {
   "cell_type": "markdown",
   "id": "c27fedf9",
   "metadata": {},
   "source": [
    "### Combining dataset"
   ]
  },
  {
   "cell_type": "code",
   "execution_count": 9,
   "id": "7e02ab93",
   "metadata": {},
   "outputs": [],
   "source": [
    "train_data_MobEff = pd.concat([efficientnet_train_data, mobilenet_train_data], ignore_index=True)\n",
    "test_data_MobEff = pd.concat([efficientnet_test_data, mobilenet_test_data], ignore_index=True)"
   ]
  },
  {
   "cell_type": "code",
   "execution_count": 10,
   "id": "e0f2c1be",
   "metadata": {},
   "outputs": [],
   "source": [
    "# Check if normalization is needed\n",
    "#scaler = StandardScaler()\n",
    "#scaler.fit(train_data_MobEff)\n",
    "#X = scaler.transform(X)\n",
    "#X_train = pd.DataFrame(X)"
   ]
  },
  {
   "cell_type": "code",
   "execution_count": 13,
   "id": "1e704a59",
   "metadata": {},
   "outputs": [],
   "source": [
    "# Separate features and labels\n",
    "X_train_MobEff = train_data_MobEff.drop(['images', 'cone_name', 'label'], axis=1)\n",
    "y_train_MobEff = train_data_MobEff['label']\n",
    "X_test_img_MobEff = test_data_MobEff.drop('image', axis=1)\n",
    "y_test_img_MobEff = test_data_MobEff['image']"
   ]
  },
  {
   "cell_type": "code",
   "execution_count": 14,
   "id": "e5bd5242",
   "metadata": {},
   "outputs": [],
   "source": [
    "# Dimensionality reduction using PCA\n",
    "pca = PCA(n_components=512)\n",
    "X_train_pca = pca.fit_transform(X_train_MobEff)\n",
    "X_test_pca = pca.transform(X_test_img_MobEff)"
   ]
  },
  {
   "cell_type": "code",
   "execution_count": 17,
   "id": "9ffc0664",
   "metadata": {},
   "outputs": [],
   "source": [
    "X_train = pd.DataFrame(X_train_pca)\n",
    "X_test = pd.DataFrame(X_test_pca)"
   ]
  },
  {
   "cell_type": "code",
   "execution_count": 22,
   "id": "ce06f514",
   "metadata": {},
   "outputs": [
    {
     "data": {
      "text/html": [
       "<div>\n",
       "<style scoped>\n",
       "    .dataframe tbody tr th:only-of-type {\n",
       "        vertical-align: middle;\n",
       "    }\n",
       "\n",
       "    .dataframe tbody tr th {\n",
       "        vertical-align: top;\n",
       "    }\n",
       "\n",
       "    .dataframe thead th {\n",
       "        text-align: right;\n",
       "    }\n",
       "</style>\n",
       "<table border=\"1\" class=\"dataframe\">\n",
       "  <thead>\n",
       "    <tr style=\"text-align: right;\">\n",
       "      <th></th>\n",
       "      <th>0</th>\n",
       "      <th>1</th>\n",
       "      <th>2</th>\n",
       "      <th>3</th>\n",
       "      <th>4</th>\n",
       "      <th>5</th>\n",
       "      <th>6</th>\n",
       "      <th>7</th>\n",
       "      <th>8</th>\n",
       "      <th>9</th>\n",
       "      <th>...</th>\n",
       "      <th>502</th>\n",
       "      <th>503</th>\n",
       "      <th>504</th>\n",
       "      <th>505</th>\n",
       "      <th>506</th>\n",
       "      <th>507</th>\n",
       "      <th>508</th>\n",
       "      <th>509</th>\n",
       "      <th>510</th>\n",
       "      <th>511</th>\n",
       "    </tr>\n",
       "  </thead>\n",
       "  <tbody>\n",
       "    <tr>\n",
       "      <th>count</th>\n",
       "      <td>2.234000e+04</td>\n",
       "      <td>2.234000e+04</td>\n",
       "      <td>2.234000e+04</td>\n",
       "      <td>2.234000e+04</td>\n",
       "      <td>2.234000e+04</td>\n",
       "      <td>2.234000e+04</td>\n",
       "      <td>2.234000e+04</td>\n",
       "      <td>2.234000e+04</td>\n",
       "      <td>2.234000e+04</td>\n",
       "      <td>2.234000e+04</td>\n",
       "      <td>...</td>\n",
       "      <td>2.234000e+04</td>\n",
       "      <td>2.234000e+04</td>\n",
       "      <td>2.234000e+04</td>\n",
       "      <td>2.234000e+04</td>\n",
       "      <td>2.234000e+04</td>\n",
       "      <td>2.234000e+04</td>\n",
       "      <td>2.234000e+04</td>\n",
       "      <td>2.234000e+04</td>\n",
       "      <td>2.234000e+04</td>\n",
       "      <td>2.234000e+04</td>\n",
       "    </tr>\n",
       "    <tr>\n",
       "      <th>mean</th>\n",
       "      <td>2.084428e-14</td>\n",
       "      <td>3.256919e-16</td>\n",
       "      <td>1.860642e-17</td>\n",
       "      <td>3.625867e-17</td>\n",
       "      <td>5.168451e-19</td>\n",
       "      <td>2.910235e-17</td>\n",
       "      <td>-4.691363e-18</td>\n",
       "      <td>2.798915e-17</td>\n",
       "      <td>-4.770878e-19</td>\n",
       "      <td>-2.210507e-17</td>\n",
       "      <td>...</td>\n",
       "      <td>-2.522602e-17</td>\n",
       "      <td>-1.035181e-16</td>\n",
       "      <td>4.002568e-17</td>\n",
       "      <td>-4.552213e-17</td>\n",
       "      <td>7.339200e-17</td>\n",
       "      <td>6.152445e-17</td>\n",
       "      <td>-5.456691e-17</td>\n",
       "      <td>2.163792e-17</td>\n",
       "      <td>-1.749322e-17</td>\n",
       "      <td>4.057234e-17</td>\n",
       "    </tr>\n",
       "    <tr>\n",
       "      <th>std</th>\n",
       "      <td>4.726595e+02</td>\n",
       "      <td>6.819472e+00</td>\n",
       "      <td>1.986144e-01</td>\n",
       "      <td>1.848435e-01</td>\n",
       "      <td>1.475377e-01</td>\n",
       "      <td>1.370622e-01</td>\n",
       "      <td>1.273030e-01</td>\n",
       "      <td>1.220188e-01</td>\n",
       "      <td>1.139078e-01</td>\n",
       "      <td>1.100807e-01</td>\n",
       "      <td>...</td>\n",
       "      <td>4.513269e-02</td>\n",
       "      <td>4.507469e-02</td>\n",
       "      <td>4.501939e-02</td>\n",
       "      <td>4.499931e-02</td>\n",
       "      <td>4.493739e-02</td>\n",
       "      <td>4.485689e-02</td>\n",
       "      <td>4.475442e-02</td>\n",
       "      <td>4.471558e-02</td>\n",
       "      <td>4.468450e-02</td>\n",
       "      <td>4.462253e-02</td>\n",
       "    </tr>\n",
       "    <tr>\n",
       "      <th>min</th>\n",
       "      <td>-5.014074e+02</td>\n",
       "      <td>-7.558698e+00</td>\n",
       "      <td>-7.389191e-01</td>\n",
       "      <td>-8.922880e-01</td>\n",
       "      <td>-7.198181e-01</td>\n",
       "      <td>-7.082027e-01</td>\n",
       "      <td>-6.629803e-01</td>\n",
       "      <td>-5.977716e-01</td>\n",
       "      <td>-6.210721e-01</td>\n",
       "      <td>-6.025254e-01</td>\n",
       "      <td>...</td>\n",
       "      <td>-2.084705e-01</td>\n",
       "      <td>-2.128160e-01</td>\n",
       "      <td>-2.317499e-01</td>\n",
       "      <td>-2.434982e-01</td>\n",
       "      <td>-2.250242e-01</td>\n",
       "      <td>-2.162186e-01</td>\n",
       "      <td>-2.200304e-01</td>\n",
       "      <td>-2.370004e-01</td>\n",
       "      <td>-2.195896e-01</td>\n",
       "      <td>-2.456966e-01</td>\n",
       "    </tr>\n",
       "    <tr>\n",
       "      <th>25%</th>\n",
       "      <td>-3.434070e+02</td>\n",
       "      <td>-6.849440e+00</td>\n",
       "      <td>-6.097126e-02</td>\n",
       "      <td>-5.657231e-02</td>\n",
       "      <td>-3.794031e-02</td>\n",
       "      <td>-3.566030e-02</td>\n",
       "      <td>-3.415963e-02</td>\n",
       "      <td>-3.788780e-02</td>\n",
       "      <td>-3.664784e-02</td>\n",
       "      <td>-3.568432e-02</td>\n",
       "      <td>...</td>\n",
       "      <td>-2.469207e-02</td>\n",
       "      <td>-2.469681e-02</td>\n",
       "      <td>-2.472003e-02</td>\n",
       "      <td>-2.463388e-02</td>\n",
       "      <td>-2.447737e-02</td>\n",
       "      <td>-2.453955e-02</td>\n",
       "      <td>-2.460733e-02</td>\n",
       "      <td>-2.448156e-02</td>\n",
       "      <td>-2.467766e-02</td>\n",
       "      <td>-2.433008e-02</td>\n",
       "    </tr>\n",
       "    <tr>\n",
       "      <th>50%</th>\n",
       "      <td>-1.524073e+02</td>\n",
       "      <td>5.389627e-03</td>\n",
       "      <td>-4.105438e-03</td>\n",
       "      <td>-6.800596e-03</td>\n",
       "      <td>2.701391e-04</td>\n",
       "      <td>5.548029e-04</td>\n",
       "      <td>1.356636e-03</td>\n",
       "      <td>-1.159823e-03</td>\n",
       "      <td>2.162010e-04</td>\n",
       "      <td>-5.353437e-04</td>\n",
       "      <td>...</td>\n",
       "      <td>3.258523e-05</td>\n",
       "      <td>-8.844323e-05</td>\n",
       "      <td>-1.541394e-04</td>\n",
       "      <td>-5.892624e-05</td>\n",
       "      <td>1.394725e-05</td>\n",
       "      <td>3.304091e-04</td>\n",
       "      <td>-2.105838e-05</td>\n",
       "      <td>1.465746e-04</td>\n",
       "      <td>-5.044146e-05</td>\n",
       "      <td>1.160892e-04</td>\n",
       "    </tr>\n",
       "    <tr>\n",
       "      <th>75%</th>\n",
       "      <td>1.845930e+02</td>\n",
       "      <td>6.807898e+00</td>\n",
       "      <td>3.866608e-02</td>\n",
       "      <td>3.797614e-02</td>\n",
       "      <td>3.957753e-02</td>\n",
       "      <td>3.668616e-02</td>\n",
       "      <td>3.776097e-02</td>\n",
       "      <td>3.449670e-02</td>\n",
       "      <td>3.601539e-02</td>\n",
       "      <td>3.344130e-02</td>\n",
       "      <td>...</td>\n",
       "      <td>2.410477e-02</td>\n",
       "      <td>2.455918e-02</td>\n",
       "      <td>2.476568e-02</td>\n",
       "      <td>2.441019e-02</td>\n",
       "      <td>2.444865e-02</td>\n",
       "      <td>2.423236e-02</td>\n",
       "      <td>2.442038e-02</td>\n",
       "      <td>2.414994e-02</td>\n",
       "      <td>2.479541e-02</td>\n",
       "      <td>2.457561e-02</td>\n",
       "    </tr>\n",
       "    <tr>\n",
       "      <th>max</th>\n",
       "      <td>1.629593e+03</td>\n",
       "      <td>8.330602e+00</td>\n",
       "      <td>1.011969e+00</td>\n",
       "      <td>1.141803e+00</td>\n",
       "      <td>7.964282e-01</td>\n",
       "      <td>8.229147e-01</td>\n",
       "      <td>8.386627e-01</td>\n",
       "      <td>6.956426e-01</td>\n",
       "      <td>6.677785e-01</td>\n",
       "      <td>6.058978e-01</td>\n",
       "      <td>...</td>\n",
       "      <td>2.592981e-01</td>\n",
       "      <td>2.190968e-01</td>\n",
       "      <td>2.648503e-01</td>\n",
       "      <td>2.455793e-01</td>\n",
       "      <td>2.609009e-01</td>\n",
       "      <td>2.253486e-01</td>\n",
       "      <td>2.557136e-01</td>\n",
       "      <td>2.385569e-01</td>\n",
       "      <td>2.511151e-01</td>\n",
       "      <td>2.574063e-01</td>\n",
       "    </tr>\n",
       "  </tbody>\n",
       "</table>\n",
       "<p>8 rows × 512 columns</p>\n",
       "</div>"
      ],
      "text/plain": [
       "                0             1             2             3             4    \\\n",
       "count  2.234000e+04  2.234000e+04  2.234000e+04  2.234000e+04  2.234000e+04   \n",
       "mean   2.084428e-14  3.256919e-16  1.860642e-17  3.625867e-17  5.168451e-19   \n",
       "std    4.726595e+02  6.819472e+00  1.986144e-01  1.848435e-01  1.475377e-01   \n",
       "min   -5.014074e+02 -7.558698e+00 -7.389191e-01 -8.922880e-01 -7.198181e-01   \n",
       "25%   -3.434070e+02 -6.849440e+00 -6.097126e-02 -5.657231e-02 -3.794031e-02   \n",
       "50%   -1.524073e+02  5.389627e-03 -4.105438e-03 -6.800596e-03  2.701391e-04   \n",
       "75%    1.845930e+02  6.807898e+00  3.866608e-02  3.797614e-02  3.957753e-02   \n",
       "max    1.629593e+03  8.330602e+00  1.011969e+00  1.141803e+00  7.964282e-01   \n",
       "\n",
       "                5             6             7             8             9    \\\n",
       "count  2.234000e+04  2.234000e+04  2.234000e+04  2.234000e+04  2.234000e+04   \n",
       "mean   2.910235e-17 -4.691363e-18  2.798915e-17 -4.770878e-19 -2.210507e-17   \n",
       "std    1.370622e-01  1.273030e-01  1.220188e-01  1.139078e-01  1.100807e-01   \n",
       "min   -7.082027e-01 -6.629803e-01 -5.977716e-01 -6.210721e-01 -6.025254e-01   \n",
       "25%   -3.566030e-02 -3.415963e-02 -3.788780e-02 -3.664784e-02 -3.568432e-02   \n",
       "50%    5.548029e-04  1.356636e-03 -1.159823e-03  2.162010e-04 -5.353437e-04   \n",
       "75%    3.668616e-02  3.776097e-02  3.449670e-02  3.601539e-02  3.344130e-02   \n",
       "max    8.229147e-01  8.386627e-01  6.956426e-01  6.677785e-01  6.058978e-01   \n",
       "\n",
       "       ...           502           503           504           505  \\\n",
       "count  ...  2.234000e+04  2.234000e+04  2.234000e+04  2.234000e+04   \n",
       "mean   ... -2.522602e-17 -1.035181e-16  4.002568e-17 -4.552213e-17   \n",
       "std    ...  4.513269e-02  4.507469e-02  4.501939e-02  4.499931e-02   \n",
       "min    ... -2.084705e-01 -2.128160e-01 -2.317499e-01 -2.434982e-01   \n",
       "25%    ... -2.469207e-02 -2.469681e-02 -2.472003e-02 -2.463388e-02   \n",
       "50%    ...  3.258523e-05 -8.844323e-05 -1.541394e-04 -5.892624e-05   \n",
       "75%    ...  2.410477e-02  2.455918e-02  2.476568e-02  2.441019e-02   \n",
       "max    ...  2.592981e-01  2.190968e-01  2.648503e-01  2.455793e-01   \n",
       "\n",
       "                506           507           508           509           510  \\\n",
       "count  2.234000e+04  2.234000e+04  2.234000e+04  2.234000e+04  2.234000e+04   \n",
       "mean   7.339200e-17  6.152445e-17 -5.456691e-17  2.163792e-17 -1.749322e-17   \n",
       "std    4.493739e-02  4.485689e-02  4.475442e-02  4.471558e-02  4.468450e-02   \n",
       "min   -2.250242e-01 -2.162186e-01 -2.200304e-01 -2.370004e-01 -2.195896e-01   \n",
       "25%   -2.447737e-02 -2.453955e-02 -2.460733e-02 -2.448156e-02 -2.467766e-02   \n",
       "50%    1.394725e-05  3.304091e-04 -2.105838e-05  1.465746e-04 -5.044146e-05   \n",
       "75%    2.444865e-02  2.423236e-02  2.442038e-02  2.414994e-02  2.479541e-02   \n",
       "max    2.609009e-01  2.253486e-01  2.557136e-01  2.385569e-01  2.511151e-01   \n",
       "\n",
       "                511  \n",
       "count  2.234000e+04  \n",
       "mean   4.057234e-17  \n",
       "std    4.462253e-02  \n",
       "min   -2.456966e-01  \n",
       "25%   -2.433008e-02  \n",
       "50%    1.160892e-04  \n",
       "75%    2.457561e-02  \n",
       "max    2.574063e-01  \n",
       "\n",
       "[8 rows x 512 columns]"
      ]
     },
     "execution_count": 22,
     "metadata": {},
     "output_type": "execute_result"
    }
   ],
   "source": [
    "X_train.describe()\n"
   ]
  },
  {
   "cell_type": "code",
   "execution_count": 23,
   "id": "87f6be91",
   "metadata": {},
   "outputs": [
    {
     "data": {
      "text/html": [
       "<div>\n",
       "<style scoped>\n",
       "    .dataframe tbody tr th:only-of-type {\n",
       "        vertical-align: middle;\n",
       "    }\n",
       "\n",
       "    .dataframe tbody tr th {\n",
       "        vertical-align: top;\n",
       "    }\n",
       "\n",
       "    .dataframe thead th {\n",
       "        text-align: right;\n",
       "    }\n",
       "</style>\n",
       "<table border=\"1\" class=\"dataframe\">\n",
       "  <thead>\n",
       "    <tr style=\"text-align: right;\">\n",
       "      <th></th>\n",
       "      <th>0</th>\n",
       "      <th>1</th>\n",
       "      <th>2</th>\n",
       "      <th>3</th>\n",
       "      <th>4</th>\n",
       "      <th>5</th>\n",
       "      <th>6</th>\n",
       "      <th>7</th>\n",
       "      <th>8</th>\n",
       "      <th>9</th>\n",
       "      <th>...</th>\n",
       "      <th>502</th>\n",
       "      <th>503</th>\n",
       "      <th>504</th>\n",
       "      <th>505</th>\n",
       "      <th>506</th>\n",
       "      <th>507</th>\n",
       "      <th>508</th>\n",
       "      <th>509</th>\n",
       "      <th>510</th>\n",
       "      <th>511</th>\n",
       "    </tr>\n",
       "  </thead>\n",
       "  <tbody>\n",
       "    <tr>\n",
       "      <th>0</th>\n",
       "      <td>-501.407314</td>\n",
       "      <td>6.750191</td>\n",
       "      <td>0.261442</td>\n",
       "      <td>-0.178307</td>\n",
       "      <td>0.415324</td>\n",
       "      <td>0.059685</td>\n",
       "      <td>-0.196913</td>\n",
       "      <td>-0.155857</td>\n",
       "      <td>-0.273663</td>\n",
       "      <td>-0.195214</td>\n",
       "      <td>...</td>\n",
       "      <td>-0.025043</td>\n",
       "      <td>-0.031105</td>\n",
       "      <td>-0.080198</td>\n",
       "      <td>-0.044606</td>\n",
       "      <td>0.045440</td>\n",
       "      <td>0.103556</td>\n",
       "      <td>-0.014049</td>\n",
       "      <td>0.084093</td>\n",
       "      <td>0.125191</td>\n",
       "      <td>0.067740</td>\n",
       "    </tr>\n",
       "    <tr>\n",
       "      <th>1</th>\n",
       "      <td>-500.407307</td>\n",
       "      <td>6.499138</td>\n",
       "      <td>0.447432</td>\n",
       "      <td>-0.055049</td>\n",
       "      <td>0.426733</td>\n",
       "      <td>0.210695</td>\n",
       "      <td>0.058464</td>\n",
       "      <td>-0.244583</td>\n",
       "      <td>-0.033781</td>\n",
       "      <td>-0.208856</td>\n",
       "      <td>...</td>\n",
       "      <td>0.007772</td>\n",
       "      <td>-0.095620</td>\n",
       "      <td>-0.017727</td>\n",
       "      <td>-0.011252</td>\n",
       "      <td>-0.005105</td>\n",
       "      <td>0.019970</td>\n",
       "      <td>-0.043972</td>\n",
       "      <td>-0.028299</td>\n",
       "      <td>-0.065463</td>\n",
       "      <td>-0.012170</td>\n",
       "    </tr>\n",
       "    <tr>\n",
       "      <th>2</th>\n",
       "      <td>-499.407314</td>\n",
       "      <td>6.507906</td>\n",
       "      <td>0.302485</td>\n",
       "      <td>-0.029843</td>\n",
       "      <td>-0.087973</td>\n",
       "      <td>0.036247</td>\n",
       "      <td>-0.056748</td>\n",
       "      <td>-0.161522</td>\n",
       "      <td>0.097432</td>\n",
       "      <td>0.118639</td>\n",
       "      <td>...</td>\n",
       "      <td>0.006192</td>\n",
       "      <td>0.119590</td>\n",
       "      <td>-0.046339</td>\n",
       "      <td>-0.023605</td>\n",
       "      <td>-0.067304</td>\n",
       "      <td>-0.010252</td>\n",
       "      <td>0.041325</td>\n",
       "      <td>-0.005555</td>\n",
       "      <td>-0.051045</td>\n",
       "      <td>-0.086070</td>\n",
       "    </tr>\n",
       "    <tr>\n",
       "      <th>3</th>\n",
       "      <td>-498.407330</td>\n",
       "      <td>6.868513</td>\n",
       "      <td>0.070631</td>\n",
       "      <td>0.080513</td>\n",
       "      <td>0.018756</td>\n",
       "      <td>-0.168464</td>\n",
       "      <td>-0.057058</td>\n",
       "      <td>0.038742</td>\n",
       "      <td>0.393939</td>\n",
       "      <td>0.261218</td>\n",
       "      <td>...</td>\n",
       "      <td>-0.052037</td>\n",
       "      <td>-0.034289</td>\n",
       "      <td>-0.019240</td>\n",
       "      <td>-0.016744</td>\n",
       "      <td>-0.089725</td>\n",
       "      <td>0.024753</td>\n",
       "      <td>0.004844</td>\n",
       "      <td>-0.012377</td>\n",
       "      <td>-0.108944</td>\n",
       "      <td>0.051349</td>\n",
       "    </tr>\n",
       "    <tr>\n",
       "      <th>4</th>\n",
       "      <td>-497.407313</td>\n",
       "      <td>6.360386</td>\n",
       "      <td>0.654985</td>\n",
       "      <td>0.412893</td>\n",
       "      <td>0.025627</td>\n",
       "      <td>-0.315959</td>\n",
       "      <td>-0.150268</td>\n",
       "      <td>-0.043862</td>\n",
       "      <td>0.287801</td>\n",
       "      <td>0.061796</td>\n",
       "      <td>...</td>\n",
       "      <td>0.045611</td>\n",
       "      <td>-0.004768</td>\n",
       "      <td>0.021374</td>\n",
       "      <td>0.033242</td>\n",
       "      <td>-0.080904</td>\n",
       "      <td>0.020504</td>\n",
       "      <td>0.000009</td>\n",
       "      <td>0.065536</td>\n",
       "      <td>-0.044918</td>\n",
       "      <td>0.059617</td>\n",
       "    </tr>\n",
       "  </tbody>\n",
       "</table>\n",
       "<p>5 rows × 512 columns</p>\n",
       "</div>"
      ],
      "text/plain": [
       "          0         1         2         3         4         5         6    \\\n",
       "0 -501.407314  6.750191  0.261442 -0.178307  0.415324  0.059685 -0.196913   \n",
       "1 -500.407307  6.499138  0.447432 -0.055049  0.426733  0.210695  0.058464   \n",
       "2 -499.407314  6.507906  0.302485 -0.029843 -0.087973  0.036247 -0.056748   \n",
       "3 -498.407330  6.868513  0.070631  0.080513  0.018756 -0.168464 -0.057058   \n",
       "4 -497.407313  6.360386  0.654985  0.412893  0.025627 -0.315959 -0.150268   \n",
       "\n",
       "        7         8         9    ...       502       503       504       505  \\\n",
       "0 -0.155857 -0.273663 -0.195214  ... -0.025043 -0.031105 -0.080198 -0.044606   \n",
       "1 -0.244583 -0.033781 -0.208856  ...  0.007772 -0.095620 -0.017727 -0.011252   \n",
       "2 -0.161522  0.097432  0.118639  ...  0.006192  0.119590 -0.046339 -0.023605   \n",
       "3  0.038742  0.393939  0.261218  ... -0.052037 -0.034289 -0.019240 -0.016744   \n",
       "4 -0.043862  0.287801  0.061796  ...  0.045611 -0.004768  0.021374  0.033242   \n",
       "\n",
       "        506       507       508       509       510       511  \n",
       "0  0.045440  0.103556 -0.014049  0.084093  0.125191  0.067740  \n",
       "1 -0.005105  0.019970 -0.043972 -0.028299 -0.065463 -0.012170  \n",
       "2 -0.067304 -0.010252  0.041325 -0.005555 -0.051045 -0.086070  \n",
       "3 -0.089725  0.024753  0.004844 -0.012377 -0.108944  0.051349  \n",
       "4 -0.080904  0.020504  0.000009  0.065536 -0.044918  0.059617  \n",
       "\n",
       "[5 rows x 512 columns]"
      ]
     },
     "execution_count": 23,
     "metadata": {},
     "output_type": "execute_result"
    }
   ],
   "source": [
    "X_train.head()\n"
   ]
  },
  {
   "cell_type": "code",
   "execution_count": 10,
   "id": "1df29690",
   "metadata": {},
   "outputs": [],
   "source": [
    "# Saving data to csv to confirm the proper concatination of data\n",
    "#train_data.to_csv('combined_train_data.csv', index=False)\n",
    "#test_data.to_csv('combined_test_data.csv', index=False)"
   ]
  },
  {
   "cell_type": "markdown",
   "id": "e609dc89",
   "metadata": {},
   "source": [
    "## Pre-processing & Normalization"
   ]
  },
  {
   "cell_type": "code",
   "execution_count": 11,
   "id": "c1c7ae04",
   "metadata": {},
   "outputs": [],
   "source": [
    "# Dropping the first column \n",
    "# train_data.drop('Unnamed', axis=1)"
   ]
  },
  {
   "cell_type": "markdown",
   "id": "03452b20",
   "metadata": {},
   "source": [
    "**_X_train_** is dataset without last three columns\n",
    "\n",
    "**_y_train_** contains only **_labels_** column\n",
    "\n",
    "**_X_test_img_** is the test dataset without **_image_** column\n",
    "\n",
    "**_y_test_img_** contains only **_image_** column"
   ]
  },
  {
   "cell_type": "code",
   "execution_count": null,
   "id": "c310910d",
   "metadata": {},
   "outputs": [],
   "source": [
    "# Separate features and labels\n",
    "X_train_MobEff = train_data_MobEff.drop(['images', 'cone_name', 'label'], axis=1)\n",
    "y_train_MobEff = train_data_MobEff['label']\n",
    "X_test_img_MobEff = test_data_MobEff.drop('image', axis=1)\n",
    "y_test_img_MobEff = test_data_MobEff['image']"
   ]
  },
  {
   "cell_type": "code",
   "execution_count": 13,
   "id": "7ec0d3ef",
   "metadata": {},
   "outputs": [],
   "source": [
    "#from sklearn.impute import SimpleImputer\n",
    "\n",
    "#imputer = SimpleImputer(strategy='mean')\n",
    "#X_train_imputed = imputer.fit_transform(X_train)\n",
    "#\n",
    "# Ensure imputation has been done correctly\n",
    "#X_train_imputed = pd.DataFrame(X_train_imputed, columns=X_train.columns)"
   ]
  },
  {
   "cell_type": "markdown",
   "id": "d0170d10",
   "metadata": {},
   "source": [
    "Large portion of dataset is missing values, imputation might not be reliable.\n",
    "\n",
    "Consider models that can handle missing values inherently, such as tree-based models\n",
    "\n",
    "Some models inherently handle missing values better than others. For example, Decision Trees \n",
    "\n",
    "and Random Forests can handle missing values by making decisions based on available data, \n",
    "\n",
    "while linear models and Naive Bayes typically require complete data."
   ]
  },
  {
   "cell_type": "code",
   "execution_count": 14,
   "id": "0309a2c4",
   "metadata": {},
   "outputs": [],
   "source": [
    "#X_train = X_train_imputed"
   ]
  },
  {
   "cell_type": "code",
   "execution_count": 15,
   "id": "e006e99c",
   "metadata": {},
   "outputs": [],
   "source": [
    "#X_train.head()"
   ]
  },
  {
   "cell_type": "code",
   "execution_count": 16,
   "id": "71c466d8",
   "metadata": {},
   "outputs": [],
   "source": [
    "#X_test_img.head()"
   ]
  },
  {
   "cell_type": "code",
   "execution_count": 17,
   "id": "16e6d6fc",
   "metadata": {},
   "outputs": [],
   "source": [
    "#y_train.head()"
   ]
  },
  {
   "cell_type": "code",
   "execution_count": 18,
   "id": "4bbbe3b9",
   "metadata": {},
   "outputs": [],
   "source": [
    "#y_test_img.head()"
   ]
  },
  {
   "cell_type": "code",
   "execution_count": 19,
   "id": "1e3f2801",
   "metadata": {},
   "outputs": [],
   "source": [
    "#X_train.describe()"
   ]
  },
  {
   "cell_type": "code",
   "execution_count": 20,
   "id": "bf920e72",
   "metadata": {},
   "outputs": [],
   "source": [
    "# Don't drop any row because \n",
    "\n",
    "#X_train.dropna(inplace=True)\n",
    "#X_train.describe()"
   ]
  },
  {
   "cell_type": "markdown",
   "id": "a4fac73c",
   "metadata": {},
   "source": [
    "## PCA Dimensionality Reduction"
   ]
  },
  {
   "cell_type": "markdown",
   "id": "088ebaaa",
   "metadata": {},
   "source": [
    "## Train-Test splitting"
   ]
  },
  {
   "cell_type": "markdown",
   "id": "d1728ded",
   "metadata": {},
   "source": [
    "Splitting **_train_** dataset into **70/30** ratio\n",
    "\n",
    "**_X_train_** is dataset without last three columns\n",
    "\n",
    "**_y_train_** contains only **_labels_** column\n",
    "\n",
    "**_X_test_img_** is the test dataset without **_image_** column\n",
    "\n",
    "**_y_test_img_** contains only **_image_** column"
   ]
  },
  {
   "cell_type": "code",
   "execution_count": 23,
   "id": "16159536",
   "metadata": {},
   "outputs": [],
   "source": [
    "X_train, X_test, y_train, y_test = train_test_split(X_train, y_train, test_size=0.3, random_state=42)"
   ]
  },
  {
   "cell_type": "code",
   "execution_count": 24,
   "id": "7c2bf4a8",
   "metadata": {},
   "outputs": [],
   "source": [
    "#X_train.describe()"
   ]
  },
  {
   "cell_type": "markdown",
   "id": "7ba0a5e0",
   "metadata": {},
   "source": [
    "# Gradient Boosting\n",
    "\n"
   ]
  },
  {
   "cell_type": "code",
   "execution_count": 25,
   "id": "02ae261f",
   "metadata": {},
   "outputs": [],
   "source": [
    "y_train = y_train - 1\n",
    "y_test = y_test - 1"
   ]
  },
  {
   "cell_type": "code",
   "execution_count": 26,
   "id": "60932cf5",
   "metadata": {},
   "outputs": [],
   "source": [
    "#from xgboost import XGBClassifier\n",
    "\n",
    "xgb_model = XGBClassifier(n_estimators=400, random_state=42)\n",
    "\n",
    "# Train the model\n",
    "start_time = time.time()\n",
    "xgb_model.fit(X_train, y_train)\n",
    "end_time = time.time()\n",
    "\n",
    "train_time = end_time-start_time\n",
    "#print(f'Train time: {train_time}')"
   ]
  },
  {
   "cell_type": "code",
   "execution_count": 27,
   "id": "73c991f1",
   "metadata": {},
   "outputs": [],
   "source": [
    "# Make predictions\n",
    "#y_pred_xgb = xgb_model.predict(X_test)\n",
    "\n",
    "# Evaluate accuracy\n",
    "#accuracy_xgb = accuracy_score(y_test, y_pred_xgb)\n",
    "#print(f'XGBoost Accuracy: {accuracy_xgb:.2f}')"
   ]
  },
  {
   "cell_type": "code",
   "execution_count": 28,
   "id": "6cdcb1bb",
   "metadata": {},
   "outputs": [
    {
     "data": {
      "text/plain": [
       "\"# Define the parameter grid\\nparam_grid = {\\n    'n_estimators': [400]\\n}\\n\\n# Initialize the XGBClassifier\\nxgb = XGBClassifier(random_state=42)\\n\\n# Initialize GridSearchCV\\nstart_time = time.time()\\ngrid_search = GridSearchCV(estimator=xgb, param_grid=param_grid, cv=3, scoring='accuracy', n_jobs=-1, verbose=2)\\n\\n# Fit GridSearchCV\\ngrid_search.fit(X_train, y_train)\\n\\nend_time = time.time()\\n\\ntrain_time = end_time-start_time\\nprint(f'Train time: {train_time}')\\n\""
      ]
     },
     "execution_count": 28,
     "metadata": {},
     "output_type": "execute_result"
    }
   ],
   "source": [
    "\"\"\"# Define the parameter grid\n",
    "param_grid = {\n",
    "    'n_estimators': [400]\n",
    "}\n",
    "\n",
    "# Initialize the XGBClassifier\n",
    "xgb = XGBClassifier(random_state=42)\n",
    "\n",
    "# Initialize GridSearchCV\n",
    "start_time = time.time()\n",
    "grid_search = GridSearchCV(estimator=xgb, param_grid=param_grid, cv=3, scoring='accuracy', n_jobs=-1, verbose=2)\n",
    "\n",
    "# Fit GridSearchCV\n",
    "grid_search.fit(X_train, y_train)\n",
    "\n",
    "end_time = time.time()\n",
    "\n",
    "train_time = end_time-start_time\n",
    "print(f'Train time: {train_time}')\n",
    "\"\"\""
   ]
  },
  {
   "cell_type": "code",
   "execution_count": 29,
   "id": "6f06bcf5",
   "metadata": {},
   "outputs": [
    {
     "data": {
      "text/plain": [
       "\"# Best parameters and best score\\nprint(f'Best parameters: {grid_search.best_params_}')\\nprint(f'Best cross-validation accuracy: {grid_search.best_score_:.2f}')\\n\\n# Use the best model\\nbest_xgb = grid_search.best_estimator_\\nbest_xgb.fit(X_train, y_train)\\ny_pred_best_xgb = best_xgb.predict(X_test)\\naccuracy_best_xgb = accuracy_score(y_test, y_pred_best_xgb)\\nprint(f'XGBoost Best Model Accuracy: {accuracy_best_xgb:.2f}')\\n\""
      ]
     },
     "execution_count": 29,
     "metadata": {},
     "output_type": "execute_result"
    }
   ],
   "source": [
    "\"\"\"# Best parameters and best score\n",
    "print(f'Best parameters: {grid_search.best_params_}')\n",
    "print(f'Best cross-validation accuracy: {grid_search.best_score_:.2f}')\n",
    "\n",
    "# Use the best model\n",
    "best_xgb = grid_search.best_estimator_\n",
    "best_xgb.fit(X_train, y_train)\n",
    "y_pred_best_xgb = best_xgb.predict(X_test)\n",
    "accuracy_best_xgb = accuracy_score(y_test, y_pred_best_xgb)\n",
    "print(f'XGBoost Best Model Accuracy: {accuracy_best_xgb:.2f}')\n",
    "\"\"\""
   ]
  }
 ],
 "metadata": {
  "kernelspec": {
   "display_name": "Python 3 (ipykernel)",
   "language": "python",
   "name": "python3"
  },
  "language_info": {
   "codemirror_mode": {
    "name": "ipython",
    "version": 3
   },
   "file_extension": ".py",
   "mimetype": "text/x-python",
   "name": "python",
   "nbconvert_exporter": "python",
   "pygments_lexer": "ipython3",
   "version": "3.11.7"
  }
 },
 "nbformat": 4,
 "nbformat_minor": 5
}
