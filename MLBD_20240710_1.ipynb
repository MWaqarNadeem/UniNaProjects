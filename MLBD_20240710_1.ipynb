{
 "cells": [
  {
   "cell_type": "markdown",
   "id": "d75b6506",
   "metadata": {},
   "source": [
    "# MLBD SEMESTER PROJECT"
   ]
  },
  {
   "cell_type": "markdown",
   "id": "769045b2",
   "metadata": {},
   "source": [
    "### Importing Libraries"
   ]
  },
  {
   "cell_type": "code",
   "execution_count": 1,
   "id": "82d6f71b",
   "metadata": {},
   "outputs": [],
   "source": [
    "import pandas as pd\n",
    "import glob\n",
    "import numpy as np\n",
    "import matplotlib.pyplot as plt\n",
    "import time"
   ]
  },
  {
   "cell_type": "code",
   "execution_count": 2,
   "id": "903c6a77",
   "metadata": {},
   "outputs": [],
   "source": [
    "from sklearn.model_selection import train_test_split\n",
    "from sklearn.metrics import accuracy_score, classification_report\n",
    "from sklearn.preprocessing import StandardScaler\n",
    "from sklearn.model_selection import GridSearchCV\n",
    "from sklearn.decomposition import PCA"
   ]
  },
  {
   "cell_type": "code",
   "execution_count": 3,
   "id": "73e9905e",
   "metadata": {},
   "outputs": [],
   "source": [
    "from sklearn.ensemble import RandomForestClassifier\n",
    "from sklearn.naive_bayes import GaussianNB\n",
    "from sklearn.tree import DecisionTreeClassifier\n",
    "from sklearn.svm import SVC\n",
    "from sklearn.linear_model import LogisticRegression\n",
    "from sklearn.ensemble import GradientBoostingClassifier\n",
    "from xgboost import XGBClassifier"
   ]
  },
  {
   "cell_type": "markdown",
   "id": "0b12dd9e",
   "metadata": {},
   "source": [
    "### Loading dataset\n"
   ]
  },
  {
   "cell_type": "code",
   "execution_count": 4,
   "id": "84f96826",
   "metadata": {},
   "outputs": [],
   "source": [
    "def load_data(file_pattern, delimiter=';'):\n",
    "    \"\"\"\n",
    "    Funcion for loading datasets\n",
    "    \"\"\"\n",
    "    files = glob.glob(file_pattern)\n",
    "    dfs = [pd.read_csv(file, delimiter=delimiter) for file in files]\n",
    "    return pd.concat(dfs, ignore_index=True)"
   ]
  },
  {
   "cell_type": "code",
   "execution_count": 5,
   "id": "8431eb7d",
   "metadata": {},
   "outputs": [],
   "source": [
    "# Load training data\n",
    "efficientnet_train_data = load_data('EfficientNet/TRAIN_*.csv')\n",
    "mobilenet_train_data = load_data('MobileNet/TRAIN_*.csv')\n",
    "resnet_train_data = load_data('ResNet/TRAIN_*.csv')"
   ]
  },
  {
   "cell_type": "code",
   "execution_count": 6,
   "id": "27e5c45f",
   "metadata": {},
   "outputs": [],
   "source": [
    "# Load test data\n",
    "efficientnet_test_data = pd.read_csv('efficientNet_test/TEST.csv', delimiter=';')\n",
    "mobilenet_test_data = pd.read_csv('mobileNet_test/TEST.csv', delimiter=';')\n",
    "resnet_test_data = pd.read_csv('resNet_test/TEST.csv', delimiter=';')"
   ]
  },
  {
   "cell_type": "markdown",
   "id": "8ce7314d",
   "metadata": {},
   "source": [
    "### Combining dataset"
   ]
  },
  {
   "cell_type": "code",
   "execution_count": 7,
   "id": "1fda966e",
   "metadata": {},
   "outputs": [],
   "source": [
    "df_merged = efficientnet_train_data.merge(mobilenet_train_data, on=['images','cone_name','label'], suffixes=('_eff', '_mob'))\n",
    "df_merged = df_merged.merge(resnet_train_data, on=['images','cone_name','label'])"
   ]
  },
  {
   "cell_type": "code",
   "execution_count": 8,
   "id": "efac5cd4",
   "metadata": {},
   "outputs": [],
   "source": [
    "# Saving the merged train data into csv file\n",
    "#df_merged.to_csv('merged_train_data.csv')"
   ]
  },
  {
   "cell_type": "code",
   "execution_count": 9,
   "id": "8d66df0c",
   "metadata": {},
   "outputs": [],
   "source": [
    "df_merged_test = efficientnet_test_data.merge(mobilenet_test_data, on=['image'], suffixes=('_eff', '_mob'))\n",
    "df_merged_test = df_merged_test.merge(resnet_test_data, on=['image'])"
   ]
  },
  {
   "cell_type": "code",
   "execution_count": 10,
   "id": "68033856",
   "metadata": {},
   "outputs": [],
   "source": [
    "# Saving the merged test data into csv file\n",
    "#df_merged_test.to_csv('merged_test_data.csv')"
   ]
  },
  {
   "cell_type": "code",
   "execution_count": 11,
   "id": "56f166b9",
   "metadata": {},
   "outputs": [],
   "source": [
    "#df_merged.head()"
   ]
  },
  {
   "cell_type": "code",
   "execution_count": 12,
   "id": "59a04b7f",
   "metadata": {},
   "outputs": [],
   "source": [
    "#df_merged_test.head()"
   ]
  },
  {
   "cell_type": "code",
   "execution_count": 13,
   "id": "034caeda",
   "metadata": {},
   "outputs": [],
   "source": [
    "# Dropping columns from merged dataframe of train dataset\n",
    "X = df_merged.drop(['Unnamed: 0_eff','Unnamed: 0_mob','Unnamed: 0','images','cone_name','label'], axis=1)\n",
    "y = df_merged['label'] - 1     # Changing index of label to start from '0'"
   ]
  },
  {
   "cell_type": "code",
   "execution_count": 14,
   "id": "072416f4",
   "metadata": {},
   "outputs": [],
   "source": [
    "# Dropping columns from test dataset\n",
    "X_test_img = df_merged_test.drop(['Unnamed: 0_eff','Unnamed: 0_mob','Unnamed: 0'], axis=1)\n",
    "X_img = X_test_img.drop('image', axis=1)\n",
    "y_img = X_test_img['image']"
   ]
  },
  {
   "cell_type": "code",
   "execution_count": 15,
   "id": "2faa248f",
   "metadata": {},
   "outputs": [
    {
     "data": {
      "text/html": [
       "<div>\n",
       "<style scoped>\n",
       "    .dataframe tbody tr th:only-of-type {\n",
       "        vertical-align: middle;\n",
       "    }\n",
       "\n",
       "    .dataframe tbody tr th {\n",
       "        vertical-align: top;\n",
       "    }\n",
       "\n",
       "    .dataframe thead th {\n",
       "        text-align: right;\n",
       "    }\n",
       "</style>\n",
       "<table border=\"1\" class=\"dataframe\">\n",
       "  <thead>\n",
       "    <tr style=\"text-align: right;\">\n",
       "      <th></th>\n",
       "      <th>f0_eff</th>\n",
       "      <th>f1_eff</th>\n",
       "      <th>f2_eff</th>\n",
       "      <th>f3_eff</th>\n",
       "      <th>f4_eff</th>\n",
       "      <th>f5_eff</th>\n",
       "      <th>f6_eff</th>\n",
       "      <th>f7_eff</th>\n",
       "      <th>f8_eff</th>\n",
       "      <th>f9_eff</th>\n",
       "      <th>...</th>\n",
       "      <th>f502</th>\n",
       "      <th>f503</th>\n",
       "      <th>f504</th>\n",
       "      <th>f505</th>\n",
       "      <th>f506</th>\n",
       "      <th>f507</th>\n",
       "      <th>f508</th>\n",
       "      <th>f509</th>\n",
       "      <th>f510</th>\n",
       "      <th>f511</th>\n",
       "    </tr>\n",
       "  </thead>\n",
       "  <tbody>\n",
       "    <tr>\n",
       "      <th>0</th>\n",
       "      <td>0.151561</td>\n",
       "      <td>0.131016</td>\n",
       "      <td>0.188074</td>\n",
       "      <td>0.097326</td>\n",
       "      <td>0.274534</td>\n",
       "      <td>0.221753</td>\n",
       "      <td>0.156587</td>\n",
       "      <td>0.079743</td>\n",
       "      <td>0.108194</td>\n",
       "      <td>0.168641</td>\n",
       "      <td>...</td>\n",
       "      <td>0.937713</td>\n",
       "      <td>0.874452</td>\n",
       "      <td>0.974516</td>\n",
       "      <td>1.105526</td>\n",
       "      <td>0.824213</td>\n",
       "      <td>0.847534</td>\n",
       "      <td>1.071275</td>\n",
       "      <td>0.944886</td>\n",
       "      <td>0.901812</td>\n",
       "      <td>0.883428</td>\n",
       "    </tr>\n",
       "    <tr>\n",
       "      <th>1</th>\n",
       "      <td>0.152722</td>\n",
       "      <td>0.185852</td>\n",
       "      <td>0.172080</td>\n",
       "      <td>0.298968</td>\n",
       "      <td>0.184606</td>\n",
       "      <td>0.145717</td>\n",
       "      <td>0.204202</td>\n",
       "      <td>0.115264</td>\n",
       "      <td>0.164645</td>\n",
       "      <td>0.201031</td>\n",
       "      <td>...</td>\n",
       "      <td>0.875002</td>\n",
       "      <td>0.928182</td>\n",
       "      <td>0.858758</td>\n",
       "      <td>1.086330</td>\n",
       "      <td>0.816912</td>\n",
       "      <td>0.809086</td>\n",
       "      <td>1.059228</td>\n",
       "      <td>1.033703</td>\n",
       "      <td>1.001865</td>\n",
       "      <td>0.824272</td>\n",
       "    </tr>\n",
       "    <tr>\n",
       "      <th>2</th>\n",
       "      <td>0.201151</td>\n",
       "      <td>0.188693</td>\n",
       "      <td>0.227748</td>\n",
       "      <td>0.239015</td>\n",
       "      <td>0.331858</td>\n",
       "      <td>0.223008</td>\n",
       "      <td>0.197266</td>\n",
       "      <td>0.248502</td>\n",
       "      <td>0.094364</td>\n",
       "      <td>0.176558</td>\n",
       "      <td>...</td>\n",
       "      <td>0.883526</td>\n",
       "      <td>0.979656</td>\n",
       "      <td>0.841254</td>\n",
       "      <td>0.985832</td>\n",
       "      <td>0.742647</td>\n",
       "      <td>0.816151</td>\n",
       "      <td>0.949110</td>\n",
       "      <td>0.962458</td>\n",
       "      <td>0.944196</td>\n",
       "      <td>0.901135</td>\n",
       "    </tr>\n",
       "    <tr>\n",
       "      <th>3</th>\n",
       "      <td>0.166100</td>\n",
       "      <td>0.230753</td>\n",
       "      <td>0.100677</td>\n",
       "      <td>0.173735</td>\n",
       "      <td>0.105974</td>\n",
       "      <td>0.172742</td>\n",
       "      <td>0.077620</td>\n",
       "      <td>0.076740</td>\n",
       "      <td>0.228600</td>\n",
       "      <td>0.255964</td>\n",
       "      <td>...</td>\n",
       "      <td>1.059928</td>\n",
       "      <td>0.806793</td>\n",
       "      <td>0.826533</td>\n",
       "      <td>0.990626</td>\n",
       "      <td>0.836815</td>\n",
       "      <td>0.871509</td>\n",
       "      <td>1.040827</td>\n",
       "      <td>0.939574</td>\n",
       "      <td>0.895419</td>\n",
       "      <td>0.933376</td>\n",
       "    </tr>\n",
       "    <tr>\n",
       "      <th>4</th>\n",
       "      <td>0.128817</td>\n",
       "      <td>0.133800</td>\n",
       "      <td>0.220247</td>\n",
       "      <td>0.193053</td>\n",
       "      <td>0.096692</td>\n",
       "      <td>0.205197</td>\n",
       "      <td>0.077397</td>\n",
       "      <td>0.108065</td>\n",
       "      <td>0.225586</td>\n",
       "      <td>0.194399</td>\n",
       "      <td>...</td>\n",
       "      <td>0.939965</td>\n",
       "      <td>0.892549</td>\n",
       "      <td>0.777361</td>\n",
       "      <td>1.024498</td>\n",
       "      <td>0.763530</td>\n",
       "      <td>0.887580</td>\n",
       "      <td>1.080938</td>\n",
       "      <td>0.968538</td>\n",
       "      <td>0.823913</td>\n",
       "      <td>0.971222</td>\n",
       "    </tr>\n",
       "  </tbody>\n",
       "</table>\n",
       "<p>5 rows × 3073 columns</p>\n",
       "</div>"
      ],
      "text/plain": [
       "     f0_eff    f1_eff    f2_eff    f3_eff    f4_eff    f5_eff    f6_eff  \\\n",
       "0  0.151561  0.131016  0.188074  0.097326  0.274534  0.221753  0.156587   \n",
       "1  0.152722  0.185852  0.172080  0.298968  0.184606  0.145717  0.204202   \n",
       "2  0.201151  0.188693  0.227748  0.239015  0.331858  0.223008  0.197266   \n",
       "3  0.166100  0.230753  0.100677  0.173735  0.105974  0.172742  0.077620   \n",
       "4  0.128817  0.133800  0.220247  0.193053  0.096692  0.205197  0.077397   \n",
       "\n",
       "     f7_eff    f8_eff    f9_eff  ...      f502      f503      f504      f505  \\\n",
       "0  0.079743  0.108194  0.168641  ...  0.937713  0.874452  0.974516  1.105526   \n",
       "1  0.115264  0.164645  0.201031  ...  0.875002  0.928182  0.858758  1.086330   \n",
       "2  0.248502  0.094364  0.176558  ...  0.883526  0.979656  0.841254  0.985832   \n",
       "3  0.076740  0.228600  0.255964  ...  1.059928  0.806793  0.826533  0.990626   \n",
       "4  0.108065  0.225586  0.194399  ...  0.939965  0.892549  0.777361  1.024498   \n",
       "\n",
       "       f506      f507      f508      f509      f510      f511  \n",
       "0  0.824213  0.847534  1.071275  0.944886  0.901812  0.883428  \n",
       "1  0.816912  0.809086  1.059228  1.033703  1.001865  0.824272  \n",
       "2  0.742647  0.816151  0.949110  0.962458  0.944196  0.901135  \n",
       "3  0.836815  0.871509  1.040827  0.939574  0.895419  0.933376  \n",
       "4  0.763530  0.887580  1.080938  0.968538  0.823913  0.971222  \n",
       "\n",
       "[5 rows x 3073 columns]"
      ]
     },
     "execution_count": 15,
     "metadata": {},
     "output_type": "execute_result"
    }
   ],
   "source": [
    "X_img.head() # contains 3073 columns\n",
    "X_test_img.head() # contains 3072 columns"
   ]
  },
  {
   "cell_type": "markdown",
   "id": "cb19e8d2",
   "metadata": {},
   "source": [
    "## Splitting dataset \n"
   ]
  },
  {
   "cell_type": "markdown",
   "id": "1f44bf02",
   "metadata": {},
   "source": [
    "Splitting train dataset into **_70/30_ ratio**"
   ]
  },
  {
   "cell_type": "code",
   "execution_count": 16,
   "id": "4f13a176",
   "metadata": {},
   "outputs": [],
   "source": [
    "X_train, X_val, y_train, y_val = train_test_split(X, y, test_size=0.1, random_state=42)"
   ]
  },
  {
   "cell_type": "markdown",
   "id": "6f137539",
   "metadata": {},
   "source": [
    "## Gradient Boosting"
   ]
  },
  {
   "cell_type": "code",
   "execution_count": null,
   "id": "50b6e348",
   "metadata": {},
   "outputs": [],
   "source": []
  },
  {
   "cell_type": "code",
   "execution_count": null,
   "id": "02f93c59",
   "metadata": {},
   "outputs": [],
   "source": [
    "param_grid = {\n",
    "    'n_estimators': [300, 350, 400, 500],\n",
    "    'max_depth': [3, 5, 7, 9],\n",
    "    'learning_rate': [0.01, 0.05, 0.1, 0.2],\n",
    "}\n",
    "\n",
    "start_time = time.time()\n",
    "\n",
    "xgb = XGBClassifier(random_state=42)\n",
    "\n",
    "# Create GridSearchCV object\n",
    "grid_search = GridSearchCV(estimator=xgb, param_grid=param_grid, cv=3, scoring='accuracy', n_jobs=-1)\n",
    "\n",
    "# Fit the grid search to the data\n",
    "grid_search.fit(X_train, y_train)\n",
    "\n",
    "# Get the best parameters\n",
    "best_params = grid_search.best_params_\n",
    "print(f'Best parameters found: {best_params}')\n",
    "\n",
    "end_time = time.time()\n",
    "duration = end_time - start_time\n",
    "print(f'Time taken: {duration}')"
   ]
  },
  {
   "cell_type": "code",
   "execution_count": null,
   "id": "0018238c",
   "metadata": {},
   "outputs": [],
   "source": [
    "# Train the model with the best parameters\n",
    "start_time_xgb = time.time()\n",
    "best_xgb = XGBClassifier(n_estimators=best_params['n_estimators'], random_state=42) #best_params['n_estimators']\n",
    "best_xgb.fit(X_train, y_train)\n",
    "end_time_xgb = time.time()\n",
    "duration_xgb = end_time_xgb - start_time_xgb\n",
    "print(f'Time taken for Best fit model training: {duration_xgb}')\n",
    "\n",
    "# Make predictions\n",
    "y_pred = best_xgb.predict(X_val)\n",
    "\n",
    "# Evaluate accuracy\n",
    "accuracy = accuracy_score(y_val, y_pred)\n",
    "print(f'XGBoost Accuracy with best n_estimators: {accuracy:.2f}')"
   ]
  },
  {
   "cell_type": "markdown",
   "id": "65f141c3",
   "metadata": {},
   "source": [
    "## Predict and Saving result\n"
   ]
  },
  {
   "cell_type": "markdown",
   "id": "59fcb997",
   "metadata": {},
   "source": [
    "Predicting the **_test_** files and generating result based on the submission requirement"
   ]
  },
  {
   "cell_type": "code",
   "execution_count": null,
   "id": "021d1476",
   "metadata": {},
   "outputs": [],
   "source": [
    "def predict_and_save(model, X_test, y_img, output_file='submission.csv'):\n",
    "    \"\"\"\n",
    "    Predict and save the test results to a CSV file.\n",
    "    \"\"\"\n",
    "    pred = model.predict(X_test)\n",
    "    pred = pred + 1 # Changing index back to '1' from '0'\n",
    "    submission_df = pd.DataFrame({'ID': y_img, 'Class': pred})\n",
    "    submission_df.to_csv(output_file, index=False)\n",
    "    print(f\"Predictions saved to {output_file}\")"
   ]
  },
  {
   "cell_type": "code",
   "execution_count": null,
   "id": "1a284a2c",
   "metadata": {},
   "outputs": [],
   "source": [
    "predict_and_save(best_xgb, X_img, y_img)"
   ]
  },
  {
   "cell_type": "code",
   "execution_count": null,
   "id": "0cb2882c",
   "metadata": {},
   "outputs": [],
   "source": []
  }
 ],
 "metadata": {
  "kernelspec": {
   "display_name": "Python 3 (ipykernel)",
   "language": "python",
   "name": "python3"
  },
  "language_info": {
   "codemirror_mode": {
    "name": "ipython",
    "version": 3
   },
   "file_extension": ".py",
   "mimetype": "text/x-python",
   "name": "python",
   "nbconvert_exporter": "python",
   "pygments_lexer": "ipython3",
   "version": "3.11.7"
  }
 },
 "nbformat": 4,
 "nbformat_minor": 5
}
