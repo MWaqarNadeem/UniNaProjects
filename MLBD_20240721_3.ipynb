{
 "cells": [
  {
   "cell_type": "markdown",
   "id": "d75b6506",
   "metadata": {},
   "source": [
    "# MLBD SEMESTER PROJECT"
   ]
  },
  {
   "cell_type": "markdown",
   "id": "769045b2",
   "metadata": {},
   "source": [
    "### Importing Libraries"
   ]
  },
  {
   "cell_type": "code",
   "execution_count": 1,
   "id": "82d6f71b",
   "metadata": {},
   "outputs": [],
   "source": [
    "import pandas as pd\n",
    "import glob\n",
    "import numpy as np\n",
    "import matplotlib.pyplot as plt\n",
    "import time"
   ]
  },
  {
   "cell_type": "code",
   "execution_count": 31,
   "id": "903c6a77",
   "metadata": {},
   "outputs": [],
   "source": [
    "from sklearn.model_selection import train_test_split\n",
    "from sklearn.metrics import accuracy_score, classification_report\n",
    "from sklearn.preprocessing import StandardScaler\n",
    "from sklearn.model_selection import GridSearchCV, cross_val_score"
   ]
  },
  {
   "cell_type": "code",
   "execution_count": 3,
   "id": "73e9905e",
   "metadata": {},
   "outputs": [],
   "source": [
    "from sklearn.ensemble import RandomForestClassifier\n",
    "from sklearn.naive_bayes import GaussianNB\n",
    "from sklearn.tree import DecisionTreeClassifier\n",
    "from sklearn.svm import SVC\n",
    "from sklearn.linear_model import LogisticRegression\n",
    "from sklearn.ensemble import GradientBoostingClassifier\n",
    "from xgboost import XGBClassifier"
   ]
  },
  {
   "cell_type": "markdown",
   "id": "0b12dd9e",
   "metadata": {},
   "source": [
    "### Loading dataset\n"
   ]
  },
  {
   "cell_type": "code",
   "execution_count": 4,
   "id": "84f96826",
   "metadata": {},
   "outputs": [],
   "source": [
    "def load_data(file_pattern, delimiter=';'):\n",
    "    \"\"\"\n",
    "    Funcion for loading datasets\n",
    "    \"\"\"\n",
    "    files = glob.glob(file_pattern)\n",
    "    dfs = [pd.read_csv(file, delimiter=delimiter) for file in files]\n",
    "    return pd.concat(dfs, ignore_index=True)"
   ]
  },
  {
   "cell_type": "code",
   "execution_count": 5,
   "id": "8431eb7d",
   "metadata": {},
   "outputs": [],
   "source": [
    "# Load training data\n",
    "efficientnet_train_data = load_data('EfficientNet/TRAIN_*.csv')\n",
    "mobilenet_train_data = load_data('MobileNet/TRAIN_*.csv')\n",
    "resnet_train_data = load_data('ResNet/TRAIN_*.csv')"
   ]
  },
  {
   "cell_type": "code",
   "execution_count": 6,
   "id": "27e5c45f",
   "metadata": {},
   "outputs": [],
   "source": [
    "# Load test data\n",
    "efficientnet_test_data = pd.read_csv('efficientNet_test/TEST.csv', delimiter=';')\n",
    "mobilenet_test_data = pd.read_csv('mobileNet_test/TEST.csv', delimiter=';')\n",
    "resnet_test_data = pd.read_csv('resNet_test/TEST.csv', delimiter=';')"
   ]
  },
  {
   "cell_type": "markdown",
   "id": "8ce7314d",
   "metadata": {},
   "source": [
    "### Combining dataset"
   ]
  },
  {
   "cell_type": "code",
   "execution_count": 7,
   "id": "1fda966e",
   "metadata": {},
   "outputs": [],
   "source": [
    "df_merged = efficientnet_train_data.merge(mobilenet_train_data, on=['images','cone_name','label'], suffixes=('_eff', '_mob'))\n",
    "df_merged = df_merged.merge(resnet_train_data, on=['images','cone_name','label'])"
   ]
  },
  {
   "cell_type": "code",
   "execution_count": 8,
   "id": "efac5cd4",
   "metadata": {},
   "outputs": [],
   "source": [
    "# Saving the merged train data into csv file\n",
    "#df_merged.to_csv('merged_train_data.csv')"
   ]
  },
  {
   "cell_type": "code",
   "execution_count": 9,
   "id": "8d66df0c",
   "metadata": {},
   "outputs": [],
   "source": [
    "df_merged_test = efficientnet_test_data.merge(mobilenet_test_data, on=['image'], suffixes=('_eff', '_mob'))\n",
    "df_merged_test = df_merged_test.merge(resnet_test_data, on=['image'])"
   ]
  },
  {
   "cell_type": "code",
   "execution_count": 10,
   "id": "68033856",
   "metadata": {},
   "outputs": [],
   "source": [
    "# Saving the merged test data into csv file\n",
    "#df_merged_test.to_csv('merged_test_data.csv')"
   ]
  },
  {
   "cell_type": "code",
   "execution_count": 13,
   "id": "034caeda",
   "metadata": {},
   "outputs": [],
   "source": [
    "# Dropping columns from merged dataframe of train dataset\n",
    "X = df_merged.drop(['Unnamed: 0_eff','Unnamed: 0_mob','Unnamed: 0','images','cone_name','label'], axis=1)\n",
    "y = df_merged['label'] - 1     # Changing index of label to start from '0'"
   ]
  },
  {
   "cell_type": "code",
   "execution_count": 14,
   "id": "072416f4",
   "metadata": {},
   "outputs": [],
   "source": [
    "# Dropping columns from test dataset\n",
    "X_test_img = df_merged_test.drop(['Unnamed: 0_eff','Unnamed: 0_mob','Unnamed: 0'], axis=1)\n",
    "X_img = X_test_img.drop('image', axis=1)\n",
    "y_img = X_test_img['image']"
   ]
  },
  {
   "cell_type": "code",
   "execution_count": 15,
   "id": "2faa248f",
   "metadata": {},
   "outputs": [
    {
     "data": {
      "text/html": [
       "<div>\n",
       "<style scoped>\n",
       "    .dataframe tbody tr th:only-of-type {\n",
       "        vertical-align: middle;\n",
       "    }\n",
       "\n",
       "    .dataframe tbody tr th {\n",
       "        vertical-align: top;\n",
       "    }\n",
       "\n",
       "    .dataframe thead th {\n",
       "        text-align: right;\n",
       "    }\n",
       "</style>\n",
       "<table border=\"1\" class=\"dataframe\">\n",
       "  <thead>\n",
       "    <tr style=\"text-align: right;\">\n",
       "      <th></th>\n",
       "      <th>f0_eff</th>\n",
       "      <th>f1_eff</th>\n",
       "      <th>f2_eff</th>\n",
       "      <th>f3_eff</th>\n",
       "      <th>f4_eff</th>\n",
       "      <th>f5_eff</th>\n",
       "      <th>f6_eff</th>\n",
       "      <th>f7_eff</th>\n",
       "      <th>f8_eff</th>\n",
       "      <th>f9_eff</th>\n",
       "      <th>...</th>\n",
       "      <th>f502</th>\n",
       "      <th>f503</th>\n",
       "      <th>f504</th>\n",
       "      <th>f505</th>\n",
       "      <th>f506</th>\n",
       "      <th>f507</th>\n",
       "      <th>f508</th>\n",
       "      <th>f509</th>\n",
       "      <th>f510</th>\n",
       "      <th>f511</th>\n",
       "    </tr>\n",
       "  </thead>\n",
       "  <tbody>\n",
       "    <tr>\n",
       "      <th>0</th>\n",
       "      <td>0.151561</td>\n",
       "      <td>0.131016</td>\n",
       "      <td>0.188074</td>\n",
       "      <td>0.097326</td>\n",
       "      <td>0.274534</td>\n",
       "      <td>0.221753</td>\n",
       "      <td>0.156587</td>\n",
       "      <td>0.079743</td>\n",
       "      <td>0.108194</td>\n",
       "      <td>0.168641</td>\n",
       "      <td>...</td>\n",
       "      <td>0.937713</td>\n",
       "      <td>0.874452</td>\n",
       "      <td>0.974516</td>\n",
       "      <td>1.105526</td>\n",
       "      <td>0.824213</td>\n",
       "      <td>0.847534</td>\n",
       "      <td>1.071275</td>\n",
       "      <td>0.944886</td>\n",
       "      <td>0.901812</td>\n",
       "      <td>0.883428</td>\n",
       "    </tr>\n",
       "    <tr>\n",
       "      <th>1</th>\n",
       "      <td>0.152722</td>\n",
       "      <td>0.185852</td>\n",
       "      <td>0.172080</td>\n",
       "      <td>0.298968</td>\n",
       "      <td>0.184606</td>\n",
       "      <td>0.145717</td>\n",
       "      <td>0.204202</td>\n",
       "      <td>0.115264</td>\n",
       "      <td>0.164645</td>\n",
       "      <td>0.201031</td>\n",
       "      <td>...</td>\n",
       "      <td>0.875002</td>\n",
       "      <td>0.928182</td>\n",
       "      <td>0.858758</td>\n",
       "      <td>1.086330</td>\n",
       "      <td>0.816912</td>\n",
       "      <td>0.809086</td>\n",
       "      <td>1.059228</td>\n",
       "      <td>1.033703</td>\n",
       "      <td>1.001865</td>\n",
       "      <td>0.824272</td>\n",
       "    </tr>\n",
       "    <tr>\n",
       "      <th>2</th>\n",
       "      <td>0.201151</td>\n",
       "      <td>0.188693</td>\n",
       "      <td>0.227748</td>\n",
       "      <td>0.239015</td>\n",
       "      <td>0.331858</td>\n",
       "      <td>0.223008</td>\n",
       "      <td>0.197266</td>\n",
       "      <td>0.248502</td>\n",
       "      <td>0.094364</td>\n",
       "      <td>0.176558</td>\n",
       "      <td>...</td>\n",
       "      <td>0.883526</td>\n",
       "      <td>0.979656</td>\n",
       "      <td>0.841254</td>\n",
       "      <td>0.985832</td>\n",
       "      <td>0.742647</td>\n",
       "      <td>0.816151</td>\n",
       "      <td>0.949110</td>\n",
       "      <td>0.962458</td>\n",
       "      <td>0.944196</td>\n",
       "      <td>0.901135</td>\n",
       "    </tr>\n",
       "    <tr>\n",
       "      <th>3</th>\n",
       "      <td>0.166100</td>\n",
       "      <td>0.230753</td>\n",
       "      <td>0.100677</td>\n",
       "      <td>0.173735</td>\n",
       "      <td>0.105974</td>\n",
       "      <td>0.172742</td>\n",
       "      <td>0.077620</td>\n",
       "      <td>0.076740</td>\n",
       "      <td>0.228600</td>\n",
       "      <td>0.255964</td>\n",
       "      <td>...</td>\n",
       "      <td>1.059928</td>\n",
       "      <td>0.806793</td>\n",
       "      <td>0.826533</td>\n",
       "      <td>0.990626</td>\n",
       "      <td>0.836815</td>\n",
       "      <td>0.871509</td>\n",
       "      <td>1.040827</td>\n",
       "      <td>0.939574</td>\n",
       "      <td>0.895419</td>\n",
       "      <td>0.933376</td>\n",
       "    </tr>\n",
       "    <tr>\n",
       "      <th>4</th>\n",
       "      <td>0.128817</td>\n",
       "      <td>0.133800</td>\n",
       "      <td>0.220247</td>\n",
       "      <td>0.193053</td>\n",
       "      <td>0.096692</td>\n",
       "      <td>0.205197</td>\n",
       "      <td>0.077397</td>\n",
       "      <td>0.108065</td>\n",
       "      <td>0.225586</td>\n",
       "      <td>0.194399</td>\n",
       "      <td>...</td>\n",
       "      <td>0.939965</td>\n",
       "      <td>0.892549</td>\n",
       "      <td>0.777361</td>\n",
       "      <td>1.024498</td>\n",
       "      <td>0.763530</td>\n",
       "      <td>0.887580</td>\n",
       "      <td>1.080938</td>\n",
       "      <td>0.968538</td>\n",
       "      <td>0.823913</td>\n",
       "      <td>0.971222</td>\n",
       "    </tr>\n",
       "  </tbody>\n",
       "</table>\n",
       "<p>5 rows × 3073 columns</p>\n",
       "</div>"
      ],
      "text/plain": [
       "     f0_eff    f1_eff    f2_eff    f3_eff    f4_eff    f5_eff    f6_eff  \\\n",
       "0  0.151561  0.131016  0.188074  0.097326  0.274534  0.221753  0.156587   \n",
       "1  0.152722  0.185852  0.172080  0.298968  0.184606  0.145717  0.204202   \n",
       "2  0.201151  0.188693  0.227748  0.239015  0.331858  0.223008  0.197266   \n",
       "3  0.166100  0.230753  0.100677  0.173735  0.105974  0.172742  0.077620   \n",
       "4  0.128817  0.133800  0.220247  0.193053  0.096692  0.205197  0.077397   \n",
       "\n",
       "     f7_eff    f8_eff    f9_eff  ...      f502      f503      f504      f505  \\\n",
       "0  0.079743  0.108194  0.168641  ...  0.937713  0.874452  0.974516  1.105526   \n",
       "1  0.115264  0.164645  0.201031  ...  0.875002  0.928182  0.858758  1.086330   \n",
       "2  0.248502  0.094364  0.176558  ...  0.883526  0.979656  0.841254  0.985832   \n",
       "3  0.076740  0.228600  0.255964  ...  1.059928  0.806793  0.826533  0.990626   \n",
       "4  0.108065  0.225586  0.194399  ...  0.939965  0.892549  0.777361  1.024498   \n",
       "\n",
       "       f506      f507      f508      f509      f510      f511  \n",
       "0  0.824213  0.847534  1.071275  0.944886  0.901812  0.883428  \n",
       "1  0.816912  0.809086  1.059228  1.033703  1.001865  0.824272  \n",
       "2  0.742647  0.816151  0.949110  0.962458  0.944196  0.901135  \n",
       "3  0.836815  0.871509  1.040827  0.939574  0.895419  0.933376  \n",
       "4  0.763530  0.887580  1.080938  0.968538  0.823913  0.971222  \n",
       "\n",
       "[5 rows x 3073 columns]"
      ]
     },
     "execution_count": 15,
     "metadata": {},
     "output_type": "execute_result"
    }
   ],
   "source": [
    "X_img.head() # contains 3073 columns\n",
    "X_test_img.head() # contains 3072 columns"
   ]
  },
  {
   "cell_type": "markdown",
   "id": "cb19e8d2",
   "metadata": {},
   "source": [
    "## Splitting dataset \n"
   ]
  },
  {
   "cell_type": "markdown",
   "id": "1f44bf02",
   "metadata": {},
   "source": [
    "Splitting train dataset into **_80/20_ ratio**"
   ]
  },
  {
   "cell_type": "code",
   "execution_count": 16,
   "id": "4f13a176",
   "metadata": {},
   "outputs": [],
   "source": [
    "X_train, X_val, y_train, y_val = train_test_split(X, y, test_size=0.2, random_state=42)"
   ]
  },
  {
   "cell_type": "markdown",
   "id": "6f137539",
   "metadata": {},
   "source": [
    "## Train and Evaluate"
   ]
  },
  {
   "cell_type": "markdown",
   "id": "e05ae2f4",
   "metadata": {},
   "source": [
    "Training different models such as xgboost, Random Forest, Gaussian Naive Bayes, Decision Tree and Support Vector Machine"
   ]
  },
  {
   "cell_type": "code",
   "execution_count": 17,
   "id": "02f93c59",
   "metadata": {},
   "outputs": [],
   "source": [
    "# Function to train and evaluate a model\n",
    "def train_and_evaluate(model, model_name):\n",
    "    start_time = time.time()\n",
    "    model.fit(X_train, y_train)\n",
    "    end_time = time.time()\n",
    "    duration = end_time - start_time\n",
    "\n",
    "    y_pred = model.predict(X_val)\n",
    "    accuracy = accuracy_score(y_val, y_pred)\n",
    "    print(f'{model_name} Accuracy: {accuracy:.2f}')\n",
    "    print(f'Time taken for {model_name} training: {duration:.2f} seconds')\n",
    "    return accuracy, duration"
   ]
  },
  {
   "cell_type": "code",
   "execution_count": 18,
   "id": "97c3b1fe",
   "metadata": {},
   "outputs": [],
   "source": [
    "# List of models to evaluate\n",
    "models = [\n",
    "    (XGBClassifier(n_estimators=350, max_depth=3, learning_rate=0.4,\n",
    "                   use_label_encoder=False, eval_metric='mlogloss'), 'XGBoost'),\n",
    "    (RandomForestClassifier(), 'Random Forest'),\n",
    "    (GaussianNB(), 'Naive Bayes'),\n",
    "    (DecisionTreeClassifier(), 'Decision Tree'),\n",
    "    (SVC(), 'SVM')\n",
    "]\n",
    "\n",
    "# Dictionary to store results\n",
    "results = {}"
   ]
  },
  {
   "cell_type": "code",
   "execution_count": 19,
   "id": "0018238c",
   "metadata": {},
   "outputs": [
    {
     "name": "stdout",
     "output_type": "stream",
     "text": [
      "XGBoost Accuracy: 0.93\n",
      "Time taken for XGBoost training: 335.62 seconds\n",
      "Random Forest Accuracy: 0.76\n",
      "Time taken for Random Forest training: 75.39 seconds\n",
      "Naive Bayes Accuracy: 0.81\n",
      "Time taken for Naive Bayes training: 0.89 seconds\n",
      "Decision Tree Accuracy: 0.69\n",
      "Time taken for Decision Tree training: 65.37 seconds\n",
      "SVM Accuracy: 0.91\n",
      "Time taken for SVM training: 147.54 seconds\n"
     ]
    }
   ],
   "source": [
    "# Train and evaluate each model\n",
    "for model, model_name in models:\n",
    "    accuracy, duration = train_and_evaluate(model, model_name)\n",
    "    results[model_name] = {'accuracy': accuracy, 'duration': duration}"
   ]
  },
  {
   "cell_type": "markdown",
   "id": "466d2b5e",
   "metadata": {},
   "source": [
    "## Plotting the results"
   ]
  },
  {
   "cell_type": "code",
   "execution_count": 27,
   "id": "b4b2b6f4",
   "metadata": {},
   "outputs": [
    {
     "data": {
      "image/png": "[encoded data removed]",
      "text/plain": [
       "<Figure size 640x480 with 2 Axes>"
      ]
     },
     "metadata": {},
     "output_type": "display_data"
    }
   ],
   "source": [
    "# Plotting the results\n",
    "model_names = list(results.keys())\n",
    "accuracies = [results[model]['accuracy'] for model in model_names]\n",
    "durations = [results[model]['duration'] for model in model_names]\n",
    "\n",
    "fig, ax1 = plt.subplots()\n",
    "\n",
    "ax2 = ax1.twinx()\n",
    "ax1.bar(model_names, accuracies, color='tab:cyan')\n",
    "ax2.plot(model_names, durations, color='k')\n",
    "\n",
    "ax1.set_xlabel('Model')\n",
    "ax1.set_ylabel('Accuracy', color='tab:cyan')\n",
    "ax2.set_ylabel('Training Time (s)', color='k')\n",
    "\n",
    "plt.title('Model Comparison: Accuracy and Training Time')\n",
    "plt.show()"
   ]
  },
  {
   "cell_type": "markdown",
   "id": "af112f40",
   "metadata": {},
   "source": [
    "## Hyperparameter selection"
   ]
  },
  {
   "cell_type": "markdown",
   "id": "e1cbe2d2",
   "metadata": {},
   "source": [
    "Tuning parameters to optimize the performance of **xgboost**"
   ]
  },
  {
   "cell_type": "code",
   "execution_count": null,
   "id": "715893db",
   "metadata": {},
   "outputs": [],
   "source": [
    "param_grid = {\n",
    "    'n_estimators': [100, 200, 300, 350],\n",
    "    'max_depth': [3, 5, 7, 9],\n",
    "    'learning_rate': [0.01, 0.05, 0.1, 0.2],\n",
    "}\n",
    "\n",
    "start_time = time.time()\n",
    "\n",
    "xgb = XGBClassifier(random_state=42)\n",
    "\n",
    "# Create GridSearchCV object\n",
    "grid_search = GridSearchCV(estimator=xgb, param_grid=param_grid, cv=3, scoring='accuracy', n_jobs=-1)\n",
    "\n",
    "# Fit the grid search to the data\n",
    "grid_search.fit(X_train, y_train)\n",
    "\n",
    "# Get the best parameters\n",
    "best_params = grid_search.best_params_\n",
    "print(f'Best parameters found: {best_params}')\n",
    "\n",
    "end_time = time.time()\n",
    "duration = end_time - start_time\n",
    "print(f'Time taken: {duration}')"
   ]
  },
  {
   "cell_type": "code",
   "execution_count": null,
   "id": "ebaf6682",
   "metadata": {},
   "outputs": [],
   "source": [
    "# Train the model with the best parameters\n",
    "start_time_xgb = time.time()\n",
    "best_xgb = XGBClassifier(n_estimators=best_params['n_estimators'], random_state=42) #best_params['n_estimators']\n",
    "best_xgb.fit(X_train, y_train)\n",
    "end_time_xgb = time.time()\n",
    "duration_xgb = end_time_xgb - start_time_xgb\n",
    "print(f'Time taken for Best fit model training: {duration_xgb}')\n",
    "\n",
    "# Make predictions\n",
    "y_pred = best_xgb.predict(X_val)\n",
    "\n",
    "# Evaluate accuracy\n",
    "accuracy = accuracy_score(y_val, y_pred)\n",
    "print(f'XGBoost Accuracy with best n_estimators: {accuracy:.2f}')"
   ]
  },
  {
   "cell_type": "markdown",
   "id": "f55c4cd6",
   "metadata": {},
   "source": [
    "## Cross-Validation\n"
   ]
  },
  {
   "cell_type": "markdown",
   "id": "b79a01cb",
   "metadata": {},
   "source": [
    "Implementing **10-Folds Cross-Validation**"
   ]
  },
  {
   "cell_type": "code",
   "execution_count": 28,
   "id": "c14a5cb2",
   "metadata": {},
   "outputs": [],
   "source": [
    "def cross_validate_model(model, model_name):\n",
    "    start_time = time.time()\n",
    "    cv_scores = cross_val_score(model, X_train, y_train, cv=10, scoring='accuracy')\n",
    "    end_time = time.time()\n",
    "    duration = end_time - start_time\n",
    "    mean_accuracy = np.mean(cv_scores)\n",
    "    print(f'{model_name} 10-Folds Cross-Validation Accuracy: {mean_accuracy:.2f}')\n",
    "    print(f'Time taken for {model_name} cross-validation: {duration:.2f} seconds')\n",
    "    return mean_accuracy, duration"
   ]
  },
  {
   "cell_type": "markdown",
   "id": "c4b12ef8",
   "metadata": {},
   "source": [
    "List of models to evaluate with 10-Folds Cross-Validation"
   ]
  },
  {
   "cell_type": "code",
   "execution_count": 29,
   "id": "cb589581",
   "metadata": {},
   "outputs": [],
   "source": [
    "models = [\n",
    "    (XGBClassifier(n_estimators=350, max_depth=3, learning_rate=0.4,\n",
    "                   use_label_encoder=False, eval_metric='mlogloss', random_state=42), 'XGBoost'),\n",
    "    (SVC(random_state=42), 'SVM')\n",
    "]"
   ]
  },
  {
   "cell_type": "code",
   "execution_count": 32,
   "id": "2d168b72",
   "metadata": {},
   "outputs": [
    {
     "name": "stdout",
     "output_type": "stream",
     "text": [
      "XGBoost 10-Folds Cross-Validation Accuracy: 0.93\n",
      "Time taken for XGBoost cross-validation: 3747.84 seconds\n",
      "SVM 10-Folds Cross-Validation Accuracy: 0.90\n",
      "Time taken for SVM cross-validation: 1384.74 seconds\n"
     ]
    }
   ],
   "source": [
    "# Dictionary to store results\n",
    "results = {}\n",
    "\n",
    "# Perform 10-Folds Cross-Validation for each model\n",
    "for model, model_name in models:\n",
    "    accuracy, duration = cross_validate_model(model, model_name)\n",
    "    results[model_name] = {'accuracy': accuracy, 'duration': duration}"
   ]
  },
  {
   "cell_type": "code",
   "execution_count": 33,
   "id": "22d11fa0",
   "metadata": {},
   "outputs": [
    {
     "name": "stdout",
     "output_type": "stream",
     "text": [
      "\n",
      "Comparison of model results:\n",
      "XGBoost - 10-Folds CV Accuracy: 0.93, Duration: 3747.84 seconds\n",
      "SVM - 10-Folds CV Accuracy: 0.90, Duration: 1384.74 seconds\n"
     ]
    }
   ],
   "source": [
    "# Compare results\n",
    "print(\"\\nComparison of model results:\")\n",
    "for model_name, metrics in results.items():\n",
    "    print(f'{model_name} - 10-Folds CV Accuracy: {metrics[\"accuracy\"]:.2f}, Duration: {metrics[\"duration\"]:.2f} seconds')"
   ]
  },
  {
   "cell_type": "markdown",
   "id": "65f141c3",
   "metadata": {},
   "source": [
    "## Predict and Saving result\n"
   ]
  },
  {
   "cell_type": "markdown",
   "id": "59fcb997",
   "metadata": {},
   "source": [
    "Predicting the **_test_** files and generating result based on the submission requirement"
   ]
  },
  {
   "cell_type": "code",
   "execution_count": 41,
   "id": "021d1476",
   "metadata": {},
   "outputs": [],
   "source": [
    "def predict_and_save(model, X_test, y_img, model_name):\n",
    "    \"\"\"\n",
    "    Predict and save the test results to a CSV file.\n",
    "    \"\"\"\n",
    "    output_file = f'submission_{model_name}.csv'\n",
    "    pred = model.predict(X_test)\n",
    "    pred = pred + 1  # Changing index back to '1' from '0'\n",
    "    submission_df = pd.DataFrame({'ID': y_img, 'Class': pred})\n",
    "    submission_df.to_csv(output_file, index=False)\n",
    "    print(f\"Predictions saved to {output_file}\")"
   ]
  },
  {
   "cell_type": "code",
   "execution_count": 42,
   "id": "1a284a2c",
   "metadata": {},
   "outputs": [
    {
     "name": "stdout",
     "output_type": "stream",
     "text": [
      "Predictions saved to submission_svm.csv\n"
     ]
    }
   ],
   "source": [
    "# Train the best SVM model on the entire training dataset\n",
    "best_svm = SVC(random_state=42)\n",
    "best_svm.fit(X, y)\n",
    "predict_and_save(best_svm, X_img, y_img, 'svm')"
   ]
  },
  {
   "cell_type": "code",
   "execution_count": 43,
   "id": "cba5356d",
   "metadata": {},
   "outputs": [
    {
     "name": "stdout",
     "output_type": "stream",
     "text": [
      "Predictions saved to submission_xgboost.csv\n"
     ]
    }
   ],
   "source": [
    "# Train the XGBoost model on the entire training dataset\n",
    "xgb = XGBClassifier(n_estimators=350, max_depth=3, learning_rate=0.4,\n",
    "                    use_label_encoder=False, eval_metric='mlogloss', random_state=42)\n",
    "xgb.fit(X, y)\n",
    "predict_and_save(xgb, X_img, y_img, 'xgboost')"
   ]
  }
 ],
 "metadata": {
  "kernelspec": {
   "display_name": "Python 3 (ipykernel)",
   "language": "python",
   "name": "python3"
  },
  "language_info": {
   "codemirror_mode": {
    "name": "ipython",
    "version": 3
   },
   "file_extension": ".py",
   "mimetype": "text/x-python",
   "name": "python",
   "nbconvert_exporter": "python",
   "pygments_lexer": "ipython3",
   "version": "3.11.7"
  }
 },
 "nbformat": 4,
 "nbformat_minor": 5
}
