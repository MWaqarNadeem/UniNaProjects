{
 "cells": [
  {
   "cell_type": "code",
   "execution_count": 1,
   "metadata": {
    "id": "ytk6Jav5O8Jl"
   },
   "outputs": [],
   "source": [
    "import pandas as pd\n",
    "from sklearn.model_selection import train_test_split\n",
    "from sklearn.ensemble import RandomForestClassifier\n",
    "from sklearn.metrics import accuracy_score, classification_report, confusion_matrix\n",
    "import glob\n",
    "from xgboost import XGBClassifier"
   ]
  },
  {
   "cell_type": "code",
   "execution_count": 2,
   "metadata": {
    "id": "m3_vjiNuQmWo"
   },
   "outputs": [],
   "source": [
    "def load_data(file_pattern, delimiter=';'):\n",
    "    \"\"\"\n",
    "    Funcion for loading datasets\n",
    "    \"\"\"\n",
    "    files = glob.glob(file_pattern)\n",
    "    dfs = [pd.read_csv(file, delimiter=delimiter) for file in files]\n",
    "    return pd.concat(dfs, ignore_index=True)"
   ]
  },
  {
   "cell_type": "code",
   "execution_count": 3,
   "metadata": {
    "id": "rGLx4D3HQqBe"
   },
   "outputs": [],
   "source": [
    "# Load training data\n",
    "efficientnet_train_data = load_data('EfficientNet/TRAIN_*.csv')\n",
    "mobilenet_train_data = load_data('MobileNet/TRAIN_*.csv')\n",
    "resnet_train_data = load_data('ResNet/TRAIN_*.csv')\n",
    "\n",
    "# Load test data\n",
    "efficientnet_test_data = pd.read_csv('EfficientNet_test/TEST.csv', delimiter=';')\n",
    "mobilenet_test_data = pd.read_csv('MobileNet_test/TEST.csv', delimiter=';')\n",
    "resnet_test_data = pd.read_csv('ResNet_test/TEST.csv', delimiter=';')"
   ]
  },
  {
   "cell_type": "code",
   "execution_count": 4,
   "metadata": {
    "id": "KrYGP4DMQ5v6"
   },
   "outputs": [],
   "source": [
    "# Combining dataset\n",
    "df_merged = efficientnet_train_data.merge(mobilenet_train_data, on=['images','cone_name','label'], suffixes=('_eff', '_mob'))\n",
    "df_merged = df_merged.merge(resnet_train_data, on=['images','cone_name','label'])\n",
    "\n",
    "df_merged_test = efficientnet_test_data.merge(mobilenet_test_data, on=['image'], suffixes=('_eff', '_mob'))\n",
    "df_merged_test = df_merged_test.merge(resnet_test_data, on=['image'])"
   ]
  },
  {
   "cell_type": "code",
   "execution_count": 5,
   "metadata": {
    "id": "T-GgHVTJRCiC"
   },
   "outputs": [],
   "source": [
    "# Dropping columns from merged dataframe of train dataset\n",
    "X = df_merged.drop(['Unnamed: 0_eff','Unnamed: 0_mob','Unnamed: 0','images','cone_name','label'], axis=1)\n",
    "y = df_merged['label'] - 1     # Changing index of label to start from '0'\n",
    "\n",
    "# Dropping columns from test dataset\n",
    "X_test_img = df_merged_test.drop(['Unnamed: 0_eff','Unnamed: 0_mob','Unnamed: 0'],\n",
    "                                 axis=1)\n",
    "X_img = X_test_img.drop('image', axis=1)\n",
    "y_img = X_test_img['image']"
   ]
  },
  {
   "cell_type": "code",
   "execution_count": 6,
   "metadata": {
    "colab": {
     "base_uri": "https://localhost:8080/",
     "height": 214
    },
    "id": "c0k5h2mbQeuq",
    "outputId": "3bcfd85e-6568-4348-fb38-9096288068d7"
   },
   "outputs": [
    {
     "name": "stdout",
     "output_type": "stream",
     "text": [
      "Accuracy: 0.9051029543419875\n",
      "Classification Report:\n",
      "              precision    recall  f1-score   support\n",
      "\n",
      "           0       0.88      0.77      0.82       164\n",
      "           1       0.92      0.95      0.94       383\n",
      "           2       0.79      0.75      0.77       144\n",
      "           3       0.94      0.96      0.95       426\n",
      "\n",
      "    accuracy                           0.91      1117\n",
      "   macro avg       0.88      0.86      0.87      1117\n",
      "weighted avg       0.90      0.91      0.90      1117\n",
      "\n",
      "Confusion Matrix:\n",
      "[[127  12  19   6]\n",
      " [  3 365   5  10]\n",
      " [ 11  13 108  12]\n",
      " [  3   7   5 411]]\n"
     ]
    }
   ],
   "source": [
    "# Split the data into training and testing sets\n",
    "X_train, X_test, y_train, y_test = train_test_split(X, y, test_size=0.1, random_state=42)\n",
    "\n",
    "# Initialize the Random Forest Classifier\n",
    "#rf_clf = RandomForestClassifier(n_estimators=300, random_state=42)\n",
    "\n",
    "# Train the model\n",
    "#rf_clf.fit(X_train, y_train)\n",
    "\n",
    "# Make predictions on the test set\n",
    "#y_pred = rf_clf.predict(X_test)\n",
    "\n",
    "## Initialize XGBoost\n",
    "xgb_clf = XGBClassifier(n_estimators=100)\n",
    "xgb_clf.fit(X_train, y_train)\n",
    "y_pred = xgb_clf.predict(X_test)\n",
    "\n",
    "# Evaluate the model\n",
    "accuracy = accuracy_score(y_test, y_pred)\n",
    "print(f'Accuracy: {accuracy}')\n",
    "\n",
    "# Detailed classification report\n",
    "print('Classification Report:')\n",
    "print(classification_report(y_test, y_pred))\n",
    "\n",
    "# Confusion matrix\n",
    "print('Confusion Matrix:')\n",
    "print(confusion_matrix(y_test, y_pred))"
   ]
  },
  {
   "cell_type": "code",
   "execution_count": 7,
   "metadata": {
    "id": "Et2IbzoLTCQT"
   },
   "outputs": [
    {
     "name": "stdout",
     "output_type": "stream",
     "text": [
      "Predictions saved to submission.csv\n"
     ]
    }
   ],
   "source": [
    "def predict_and_save(model, X_test, y_img, output_file='submission.csv'):\n",
    "    \"\"\"\n",
    "    Predict and save the test results to a CSV file.\n",
    "    \"\"\"\n",
    "    pred = model.predict(X_test)\n",
    "    pred = pred + 1 # Changing index back to '1' from '0'\n",
    "    submission_df = pd.DataFrame({'ID': y_img, 'Class': pred})\n",
    "    submission_df.to_csv(output_file, index=False)\n",
    "    print(f\"Predictions saved to {output_file}\")\n",
    "    \n",
    "predict_and_save(xgb_clf, X_img, y_img)\n",
    "#predict_and_save(rf_clf, X_img, y_img, output_file='submission.csv')"
   ]
  },
  {
   "cell_type": "code",
   "execution_count": null,
   "metadata": {},
   "outputs": [],
   "source": []
  }
 ],
 "metadata": {
  "colab": {
   "provenance": []
  },
  "kernelspec": {
   "display_name": "Python 3 (ipykernel)",
   "language": "python",
   "name": "python3"
  },
  "language_info": {
   "codemirror_mode": {
    "name": "ipython",
    "version": 3
   },
   "file_extension": ".py",
   "mimetype": "text/x-python",
   "name": "python",
   "nbconvert_exporter": "python",
   "pygments_lexer": "ipython3",
   "version": "3.11.7"
  }
 },
 "nbformat": 4,
 "nbformat_minor": 1
}
